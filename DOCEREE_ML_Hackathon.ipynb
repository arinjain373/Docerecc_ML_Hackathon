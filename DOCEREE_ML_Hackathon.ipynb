{
  "nbformat": 4,
  "nbformat_minor": 0,
  "metadata": {
    "colab": {
      "provenance": [],
      "gpuType": "T4",
      "toc_visible": true
    },
    "kernelspec": {
      "name": "python3",
      "display_name": "Python 3"
    },
    "language_info": {
      "name": "python"
    },
    "accelerator": "GPU"
  },
  "cells": [
    {
      "cell_type": "code",
      "execution_count": 349,
      "metadata": {
        "id": "dfvEE7wIk-lv"
      },
      "outputs": [],
      "source": [
        "import pandas as pd\n",
        "import numpy as np\n",
        "import tensorflow as tf\n",
        "import matplotlib.pyplot as plt"
      ]
    },
    {
      "cell_type": "code",
      "source": [
        "df1 = pd.read_csv('Doceree-HCP_Train.csv'  ,encoding='latin1')\n"
      ],
      "metadata": {
        "id": "8VNFGu4ZlE6b"
      },
      "execution_count": 350,
      "outputs": []
    },
    {
      "cell_type": "code",
      "source": [
        "df1.shape"
      ],
      "metadata": {
        "colab": {
          "base_uri": "https://localhost:8080/"
        },
        "id": "nnr80Mhml2Ph",
        "outputId": "158e3ff7-31e4-4430-b792-71a9e69f1f3c"
      },
      "execution_count": 351,
      "outputs": [
        {
          "output_type": "execute_result",
          "data": {
            "text/plain": [
              "(113937, 14)"
            ]
          },
          "metadata": {},
          "execution_count": 351
        }
      ]
    },
    {
      "cell_type": "code",
      "source": [
        "df1.columns"
      ],
      "metadata": {
        "colab": {
          "base_uri": "https://localhost:8080/"
        },
        "id": "EHKAS37Al44H",
        "outputId": "78e1c28d-6718-46fb-9b0e-a2821485a629"
      },
      "execution_count": 352,
      "outputs": [
        {
          "output_type": "execute_result",
          "data": {
            "text/plain": [
              "Index(['ID', 'DEVICETYPE', 'PLATFORM_ID', 'BIDREQUESTIP', 'USERPLATFORMUID',\n",
              "       'USERCITY', 'USERZIPCODE', 'USERAGENT', 'PLATFORMTYPE', 'CHANNELTYPE',\n",
              "       'URL', 'KEYWORDS', 'TAXONOMY', 'IS_HCP'],\n",
              "      dtype='object')"
            ]
          },
          "metadata": {},
          "execution_count": 352
        }
      ]
    },
    {
      "cell_type": "code",
      "source": [
        "df1.head()"
      ],
      "metadata": {
        "colab": {
          "base_uri": "https://localhost:8080/",
          "height": 635
        },
        "id": "iLqqN00GmFtR",
        "outputId": "c0101a09-2ac3-471a-8448-f24f7335c9f9"
      },
      "execution_count": 353,
      "outputs": [
        {
          "output_type": "execute_result",
          "data": {
            "text/plain": [
              "     ID DEVICETYPE  PLATFORM_ID    BIDREQUESTIP  \\\n",
              "0  1001    Desktop            2    170.173.0.22   \n",
              "1  1002    Desktop            2   65.216.253.25   \n",
              "2  1003    Desktop            2    66.232.79.22   \n",
              "3  1004    Desktop            3  137.54.125.246   \n",
              "4  1005     Mobile            7  174.202.231.99   \n",
              "\n",
              "                        USERPLATFORMUID     USERCITY  USERZIPCODE  \\\n",
              "0  6974dcaa-f932-480e-9fb5-c52e20e1393a     Portland      97206.0   \n",
              "1  c12f3f8f-8fcf-484a-90e1-1ac04db8cdcf    Arlington      22202.0   \n",
              "2  a698de4b-e200-46dd-b5fb-40402175ae18  New Meadows      83654.0   \n",
              "3  45967533-75c8-4fbd-a00c-e6ff20447aaa          NaN  229114624.0   \n",
              "4  a17e25be-532d-4cf5-b916-9308c8c3961f      Houston      77008.0   \n",
              "\n",
              "                                           USERAGENT            PLATFORMTYPE  \\\n",
              "0  Mozilla/5.0 (Windows NT 10.0; Win64; x64) Appl...  Online Medical Journal   \n",
              "1  Mozilla/5.0 (Macintosh; Intel Mac OS X 10_15_7...  Online Medical Journal   \n",
              "2  Mozilla/5.0 (Macintosh; Intel Mac OS X 10_15_7...  Online Medical Journal   \n",
              "3  Mozilla/5.0 (Windows NT 10.0; Win64; x64) Appl...  Online Medical Journal   \n",
              "4  Mozilla/5.0 (iPhone; CPU iPhone OS 16_1_1 like...  Online Medical Journal   \n",
              "\n",
              "  CHANNELTYPE                                                URL  \\\n",
              "0     Website  https://www.cancertherapyadvisor.com/home/canc...   \n",
              "1     Website  https://www.cancertherapyadvisor.com/home/deci...   \n",
              "2     Website  https://www.cancertherapyadvisor.com/home/canc...   \n",
              "3     Website  https://globalrph.com/medcalcs/warfarin-mainte...   \n",
              "4     Website  https://www.cureus.com/articles/58184-a-review...   \n",
              "\n",
              "                                            KEYWORDS    TAXONOMY  IS_HCP  \n",
              "0  General|Endocrine|False|Medicine|Surgery|Urolo...         NaN     0.0  \n",
              "1  Bone Marrow|Radiography|Chronic|Oncology|Psych...         NaN     0.0  \n",
              "2  General|Endocrine|False|Medicine|Surgery|Urolo...         NaN     0.0  \n",
              "3  Dental|Total|Clinical|Pharmacology|Physicians|...  2084P0800X     1.0  \n",
              "4  Critical Care|Emergency Medicine|General Pract...         NaN     0.0  "
            ],
            "text/html": [
              "\n",
              "  <div id=\"df-4b5ba819-2c9a-4c8f-b876-71f49f7aabab\">\n",
              "    <div class=\"colab-df-container\">\n",
              "      <div>\n",
              "<style scoped>\n",
              "    .dataframe tbody tr th:only-of-type {\n",
              "        vertical-align: middle;\n",
              "    }\n",
              "\n",
              "    .dataframe tbody tr th {\n",
              "        vertical-align: top;\n",
              "    }\n",
              "\n",
              "    .dataframe thead th {\n",
              "        text-align: right;\n",
              "    }\n",
              "</style>\n",
              "<table border=\"1\" class=\"dataframe\">\n",
              "  <thead>\n",
              "    <tr style=\"text-align: right;\">\n",
              "      <th></th>\n",
              "      <th>ID</th>\n",
              "      <th>DEVICETYPE</th>\n",
              "      <th>PLATFORM_ID</th>\n",
              "      <th>BIDREQUESTIP</th>\n",
              "      <th>USERPLATFORMUID</th>\n",
              "      <th>USERCITY</th>\n",
              "      <th>USERZIPCODE</th>\n",
              "      <th>USERAGENT</th>\n",
              "      <th>PLATFORMTYPE</th>\n",
              "      <th>CHANNELTYPE</th>\n",
              "      <th>URL</th>\n",
              "      <th>KEYWORDS</th>\n",
              "      <th>TAXONOMY</th>\n",
              "      <th>IS_HCP</th>\n",
              "    </tr>\n",
              "  </thead>\n",
              "  <tbody>\n",
              "    <tr>\n",
              "      <th>0</th>\n",
              "      <td>1001</td>\n",
              "      <td>Desktop</td>\n",
              "      <td>2</td>\n",
              "      <td>170.173.0.22</td>\n",
              "      <td>6974dcaa-f932-480e-9fb5-c52e20e1393a</td>\n",
              "      <td>Portland</td>\n",
              "      <td>97206.0</td>\n",
              "      <td>Mozilla/5.0 (Windows NT 10.0; Win64; x64) Appl...</td>\n",
              "      <td>Online Medical Journal</td>\n",
              "      <td>Website</td>\n",
              "      <td>https://www.cancertherapyadvisor.com/home/canc...</td>\n",
              "      <td>General|Endocrine|False|Medicine|Surgery|Urolo...</td>\n",
              "      <td>NaN</td>\n",
              "      <td>0.0</td>\n",
              "    </tr>\n",
              "    <tr>\n",
              "      <th>1</th>\n",
              "      <td>1002</td>\n",
              "      <td>Desktop</td>\n",
              "      <td>2</td>\n",
              "      <td>65.216.253.25</td>\n",
              "      <td>c12f3f8f-8fcf-484a-90e1-1ac04db8cdcf</td>\n",
              "      <td>Arlington</td>\n",
              "      <td>22202.0</td>\n",
              "      <td>Mozilla/5.0 (Macintosh; Intel Mac OS X 10_15_7...</td>\n",
              "      <td>Online Medical Journal</td>\n",
              "      <td>Website</td>\n",
              "      <td>https://www.cancertherapyadvisor.com/home/deci...</td>\n",
              "      <td>Bone Marrow|Radiography|Chronic|Oncology|Psych...</td>\n",
              "      <td>NaN</td>\n",
              "      <td>0.0</td>\n",
              "    </tr>\n",
              "    <tr>\n",
              "      <th>2</th>\n",
              "      <td>1003</td>\n",
              "      <td>Desktop</td>\n",
              "      <td>2</td>\n",
              "      <td>66.232.79.22</td>\n",
              "      <td>a698de4b-e200-46dd-b5fb-40402175ae18</td>\n",
              "      <td>New Meadows</td>\n",
              "      <td>83654.0</td>\n",
              "      <td>Mozilla/5.0 (Macintosh; Intel Mac OS X 10_15_7...</td>\n",
              "      <td>Online Medical Journal</td>\n",
              "      <td>Website</td>\n",
              "      <td>https://www.cancertherapyadvisor.com/home/canc...</td>\n",
              "      <td>General|Endocrine|False|Medicine|Surgery|Urolo...</td>\n",
              "      <td>NaN</td>\n",
              "      <td>0.0</td>\n",
              "    </tr>\n",
              "    <tr>\n",
              "      <th>3</th>\n",
              "      <td>1004</td>\n",
              "      <td>Desktop</td>\n",
              "      <td>3</td>\n",
              "      <td>137.54.125.246</td>\n",
              "      <td>45967533-75c8-4fbd-a00c-e6ff20447aaa</td>\n",
              "      <td>NaN</td>\n",
              "      <td>229114624.0</td>\n",
              "      <td>Mozilla/5.0 (Windows NT 10.0; Win64; x64) Appl...</td>\n",
              "      <td>Online Medical Journal</td>\n",
              "      <td>Website</td>\n",
              "      <td>https://globalrph.com/medcalcs/warfarin-mainte...</td>\n",
              "      <td>Dental|Total|Clinical|Pharmacology|Physicians|...</td>\n",
              "      <td>2084P0800X</td>\n",
              "      <td>1.0</td>\n",
              "    </tr>\n",
              "    <tr>\n",
              "      <th>4</th>\n",
              "      <td>1005</td>\n",
              "      <td>Mobile</td>\n",
              "      <td>7</td>\n",
              "      <td>174.202.231.99</td>\n",
              "      <td>a17e25be-532d-4cf5-b916-9308c8c3961f</td>\n",
              "      <td>Houston</td>\n",
              "      <td>77008.0</td>\n",
              "      <td>Mozilla/5.0 (iPhone; CPU iPhone OS 16_1_1 like...</td>\n",
              "      <td>Online Medical Journal</td>\n",
              "      <td>Website</td>\n",
              "      <td>https://www.cureus.com/articles/58184-a-review...</td>\n",
              "      <td>Critical Care|Emergency Medicine|General Pract...</td>\n",
              "      <td>NaN</td>\n",
              "      <td>0.0</td>\n",
              "    </tr>\n",
              "  </tbody>\n",
              "</table>\n",
              "</div>\n",
              "      <button class=\"colab-df-convert\" onclick=\"convertToInteractive('df-4b5ba819-2c9a-4c8f-b876-71f49f7aabab')\"\n",
              "              title=\"Convert this dataframe to an interactive table.\"\n",
              "              style=\"display:none;\">\n",
              "        \n",
              "  <svg xmlns=\"http://www.w3.org/2000/svg\" height=\"24px\"viewBox=\"0 0 24 24\"\n",
              "       width=\"24px\">\n",
              "    <path d=\"M0 0h24v24H0V0z\" fill=\"none\"/>\n",
              "    <path d=\"M18.56 5.44l.94 2.06.94-2.06 2.06-.94-2.06-.94-.94-2.06-.94 2.06-2.06.94zm-11 1L8.5 8.5l.94-2.06 2.06-.94-2.06-.94L8.5 2.5l-.94 2.06-2.06.94zm10 10l.94 2.06.94-2.06 2.06-.94-2.06-.94-.94-2.06-.94 2.06-2.06.94z\"/><path d=\"M17.41 7.96l-1.37-1.37c-.4-.4-.92-.59-1.43-.59-.52 0-1.04.2-1.43.59L10.3 9.45l-7.72 7.72c-.78.78-.78 2.05 0 2.83L4 21.41c.39.39.9.59 1.41.59.51 0 1.02-.2 1.41-.59l7.78-7.78 2.81-2.81c.8-.78.8-2.07 0-2.86zM5.41 20L4 18.59l7.72-7.72 1.47 1.35L5.41 20z\"/>\n",
              "  </svg>\n",
              "      </button>\n",
              "      \n",
              "  <style>\n",
              "    .colab-df-container {\n",
              "      display:flex;\n",
              "      flex-wrap:wrap;\n",
              "      gap: 12px;\n",
              "    }\n",
              "\n",
              "    .colab-df-convert {\n",
              "      background-color: #E8F0FE;\n",
              "      border: none;\n",
              "      border-radius: 50%;\n",
              "      cursor: pointer;\n",
              "      display: none;\n",
              "      fill: #1967D2;\n",
              "      height: 32px;\n",
              "      padding: 0 0 0 0;\n",
              "      width: 32px;\n",
              "    }\n",
              "\n",
              "    .colab-df-convert:hover {\n",
              "      background-color: #E2EBFA;\n",
              "      box-shadow: 0px 1px 2px rgba(60, 64, 67, 0.3), 0px 1px 3px 1px rgba(60, 64, 67, 0.15);\n",
              "      fill: #174EA6;\n",
              "    }\n",
              "\n",
              "    [theme=dark] .colab-df-convert {\n",
              "      background-color: #3B4455;\n",
              "      fill: #D2E3FC;\n",
              "    }\n",
              "\n",
              "    [theme=dark] .colab-df-convert:hover {\n",
              "      background-color: #434B5C;\n",
              "      box-shadow: 0px 1px 3px 1px rgba(0, 0, 0, 0.15);\n",
              "      filter: drop-shadow(0px 1px 2px rgba(0, 0, 0, 0.3));\n",
              "      fill: #FFFFFF;\n",
              "    }\n",
              "  </style>\n",
              "\n",
              "      <script>\n",
              "        const buttonEl =\n",
              "          document.querySelector('#df-4b5ba819-2c9a-4c8f-b876-71f49f7aabab button.colab-df-convert');\n",
              "        buttonEl.style.display =\n",
              "          google.colab.kernel.accessAllowed ? 'block' : 'none';\n",
              "\n",
              "        async function convertToInteractive(key) {\n",
              "          const element = document.querySelector('#df-4b5ba819-2c9a-4c8f-b876-71f49f7aabab');\n",
              "          const dataTable =\n",
              "            await google.colab.kernel.invokeFunction('convertToInteractive',\n",
              "                                                     [key], {});\n",
              "          if (!dataTable) return;\n",
              "\n",
              "          const docLinkHtml = 'Like what you see? Visit the ' +\n",
              "            '<a target=\"_blank\" href=https://colab.research.google.com/notebooks/data_table.ipynb>data table notebook</a>'\n",
              "            + ' to learn more about interactive tables.';\n",
              "          element.innerHTML = '';\n",
              "          dataTable['output_type'] = 'display_data';\n",
              "          await google.colab.output.renderOutput(dataTable, element);\n",
              "          const docLink = document.createElement('div');\n",
              "          docLink.innerHTML = docLinkHtml;\n",
              "          element.appendChild(docLink);\n",
              "        }\n",
              "      </script>\n",
              "    </div>\n",
              "  </div>\n",
              "  "
            ]
          },
          "metadata": {},
          "execution_count": 353
        }
      ]
    },
    {
      "cell_type": "code",
      "source": [
        "cnt = 0;\n",
        "for i in df1.IS_HCP:\n",
        "    if(i == 1):\n",
        "        cnt = cnt+1\n",
        "print(cnt)\n",
        "print(len(df1.IS_HCP)-cnt)"
      ],
      "metadata": {
        "colab": {
          "base_uri": "https://localhost:8080/"
        },
        "id": "q96aeEzrU-HM",
        "outputId": "255a8f09-aec6-45d2-efa7-90c815f0fafe"
      },
      "execution_count": 354,
      "outputs": [
        {
          "output_type": "stream",
          "name": "stdout",
          "text": [
            "34180\n",
            "79757\n"
          ]
        }
      ]
    },
    {
      "cell_type": "markdown",
      "source": [
        "#Data Exploration"
      ],
      "metadata": {
        "id": "KNXVfV7vn8_R"
      }
    },
    {
      "cell_type": "code",
      "source": [
        "df2 = df1[['KEYWORDS', 'IS_HCP']]\n",
        "df3 = df1[['KEYWORDS', 'IS_HCP', 'TAXONOMY']]"
      ],
      "metadata": {
        "id": "HeFBRCYkmtT6"
      },
      "execution_count": 355,
      "outputs": []
    },
    {
      "cell_type": "code",
      "source": [
        "print(df2.isna().sum())"
      ],
      "metadata": {
        "colab": {
          "base_uri": "https://localhost:8080/"
        },
        "id": "ZA4pFn9Lnd9G",
        "outputId": "312c12f0-94f2-4c9f-c3d7-4244ebd8dfdc"
      },
      "execution_count": 356,
      "outputs": [
        {
          "output_type": "stream",
          "name": "stdout",
          "text": [
            "KEYWORDS    0\n",
            "IS_HCP      1\n",
            "dtype: int64\n"
          ]
        }
      ]
    },
    {
      "cell_type": "code",
      "source": [
        "df2.dropna(inplace = True)"
      ],
      "metadata": {
        "colab": {
          "base_uri": "https://localhost:8080/"
        },
        "id": "xjVaN51znfa5",
        "outputId": "63400854-e216-467a-ff43-5246e395ae2d"
      },
      "execution_count": 357,
      "outputs": [
        {
          "output_type": "stream",
          "name": "stderr",
          "text": [
            "<ipython-input-357-6c3633892e9c>:1: SettingWithCopyWarning: \n",
            "A value is trying to be set on a copy of a slice from a DataFrame\n",
            "\n",
            "See the caveats in the documentation: https://pandas.pydata.org/pandas-docs/stable/user_guide/indexing.html#returning-a-view-versus-a-copy\n",
            "  df2.dropna(inplace = True)\n"
          ]
        }
      ]
    },
    {
      "cell_type": "code",
      "source": [
        "x = df2[\"KEYWORDS\"]\n",
        "y = df2[\"IS_HCP\"]"
      ],
      "metadata": {
        "id": "I7d4Mppml6UI"
      },
      "execution_count": 358,
      "outputs": []
    },
    {
      "cell_type": "code",
      "source": [
        "print(df3.isna().sum())\n",
        "df3.dropna(inplace = True)"
      ],
      "metadata": {
        "colab": {
          "base_uri": "https://localhost:8080/"
        },
        "id": "9eUrh4VNn1Z5",
        "outputId": "c3bd8eb8-decf-46c0-bc38-487151215ef5"
      },
      "execution_count": 359,
      "outputs": [
        {
          "output_type": "stream",
          "name": "stdout",
          "text": [
            "KEYWORDS        0\n",
            "IS_HCP          1\n",
            "TAXONOMY    81624\n",
            "dtype: int64\n"
          ]
        },
        {
          "output_type": "stream",
          "name": "stderr",
          "text": [
            "<ipython-input-359-827dde9768d1>:2: SettingWithCopyWarning: \n",
            "A value is trying to be set on a copy of a slice from a DataFrame\n",
            "\n",
            "See the caveats in the documentation: https://pandas.pydata.org/pandas-docs/stable/user_guide/indexing.html#returning-a-view-versus-a-copy\n",
            "  df3.dropna(inplace = True)\n"
          ]
        }
      ]
    },
    {
      "cell_type": "code",
      "source": [
        "print(df3.shape)"
      ],
      "metadata": {
        "colab": {
          "base_uri": "https://localhost:8080/"
        },
        "id": "10jv2rU61KH4",
        "outputId": "c8769038-1ac4-47b4-d5cd-60fd7cea6536"
      },
      "execution_count": 360,
      "outputs": [
        {
          "output_type": "stream",
          "name": "stdout",
          "text": [
            "(32313, 3)\n"
          ]
        }
      ]
    },
    {
      "cell_type": "markdown",
      "source": [
        "#SPLITING DATA FOR IS_HCP"
      ],
      "metadata": {
        "id": "KxRor-nCn1xb"
      }
    },
    {
      "cell_type": "code",
      "source": [
        "from sklearn.model_selection import train_test_split\n",
        "x_train, x_val, y_train, y_val = train_test_split(x, y, test_size=0.1, random_state=42)"
      ],
      "metadata": {
        "id": "JG2au2GRnACR"
      },
      "execution_count": 361,
      "outputs": []
    },
    {
      "cell_type": "code",
      "source": [
        "print(x_train.shape)\n",
        "print(x_val.shape)"
      ],
      "metadata": {
        "colab": {
          "base_uri": "https://localhost:8080/"
        },
        "id": "dFUUQVesnt8R",
        "outputId": "c8acfe0d-cd74-4138-b859-4768e1ad772c"
      },
      "execution_count": 362,
      "outputs": [
        {
          "output_type": "stream",
          "name": "stdout",
          "text": [
            "(102542,)\n",
            "(11394,)\n"
          ]
        }
      ]
    },
    {
      "cell_type": "code",
      "source": [
        "def append_string_to_list(ls, my_string):\n",
        "    ls.append(my_string)\n",
        "    return ls"
      ],
      "metadata": {
        "id": "1wmVaJAUoupM"
      },
      "execution_count": 363,
      "outputs": []
    },
    {
      "cell_type": "code",
      "source": [
        "train_list = []\n",
        "for i in x_train:\n",
        "  append_string_to_list(train_list,i.lower())\n"
      ],
      "metadata": {
        "id": "jhH-gQuUoINY"
      },
      "execution_count": 364,
      "outputs": []
    },
    {
      "cell_type": "code",
      "source": [
        "test_list = []\n",
        "for i in x_val:\n",
        "  append_string_to_list(test_list,i.lower())"
      ],
      "metadata": {
        "id": "f0ddHmJxsJG_"
      },
      "execution_count": 365,
      "outputs": []
    },
    {
      "cell_type": "code",
      "source": [
        "print(len(train_list))\n",
        "print(train_list[0])"
      ],
      "metadata": {
        "colab": {
          "base_uri": "https://localhost:8080/"
        },
        "id": "M-q-96DPpEWQ",
        "outputId": "cef1edb0-ceaa-454d-8623-82e195e52513"
      },
      "execution_count": 366,
      "outputs": [
        {
          "output_type": "stream",
          "name": "stdout",
          "text": [
            "102542\n",
            "small|immunoglobulin g|nephrology|immunoglobulin m|radiology|preventive medicine|critical care|internal medicine|oncology|abscess|dissection|forensic medicine|general|specialties|pneumonia|conduction|protozoan infections|hand|trauma|pain|escherichia coli|disease|hepatitis c|tuberculosis|health|pain management|acos|hepatitis|cardiology|preventive|nausea|the|clinical|hematology|proton therapy|nervous system|dermatology|dietetics|transplantation|pediatrics|urology|diabetes|cardiac|surgery|\n"
          ]
        }
      ]
    },
    {
      "cell_type": "markdown",
      "source": [
        "#  MODEL FOR IS_HCP"
      ],
      "metadata": {
        "id": "0_f7CMxupEsF"
      }
    },
    {
      "cell_type": "code",
      "source": [
        "import numpy as np\n",
        "from tensorflow.keras.preprocessing.text import Tokenizer\n",
        "from tensorflow.keras.preprocessing.sequence import pad_sequences"
      ],
      "metadata": {
        "id": "_KwuofKspB45"
      },
      "execution_count": 367,
      "outputs": []
    },
    {
      "cell_type": "code",
      "source": [
        "vocab_size = 10000\n",
        "max_length = 120\n",
        "trunc_type='post'\n",
        "padding_type='post'\n",
        "oov_tok = \"<OOV>\""
      ],
      "metadata": {
        "id": "CFaHo_Vmpeww"
      },
      "execution_count": 368,
      "outputs": []
    },
    {
      "cell_type": "code",
      "source": [
        "tokenizer = Tokenizer(num_words=vocab_size, oov_token=oov_tok)\n",
        "tokenizer.fit_on_texts(train_list)\n",
        "word_index = tokenizer.word_index\n",
        "train_seq = tokenizer.texts_to_sequences(train_list)\n",
        "train_padded = pad_sequences(train_seq, maxlen=max_length, padding=padding_type, truncating=trunc_type)\n"
      ],
      "metadata": {
        "id": "mGof_40QpiUR"
      },
      "execution_count": 369,
      "outputs": []
    },
    {
      "cell_type": "code",
      "source": [
        "print(train_padded)"
      ],
      "metadata": {
        "colab": {
          "base_uri": "https://localhost:8080/"
        },
        "id": "Ki6gyP5Fp4Fx",
        "outputId": "dd491409-ad07-4cda-c833-b41105c38862"
      },
      "execution_count": 370,
      "outputs": [
        {
          "output_type": "stream",
          "name": "stdout",
          "text": [
            "[[ 19 244 317 ...   0   0   0]\n",
            " [ 85  63 381 ...   0   0   0]\n",
            " [296 291 157 ...   0   0   0]\n",
            " ...\n",
            " [  6 222  47 ...   0   0   0]\n",
            " [ 24   4  14 ...   0   0   0]\n",
            " [  6   2  22 ...   0   0   0]]\n"
          ]
        }
      ]
    },
    {
      "cell_type": "code",
      "source": [
        "test_seq = tokenizer.texts_to_sequences(test_list)\n",
        "test_padded = pad_sequences(test_seq, maxlen=max_length, padding=padding_type, truncating=trunc_type)\n",
        "print(test_padded)"
      ],
      "metadata": {
        "colab": {
          "base_uri": "https://localhost:8080/"
        },
        "id": "2qs1ksEFr6Zp",
        "outputId": "b0467ca0-8a04-42e5-8fe2-7d6bb7e298b5"
      },
      "execution_count": 371,
      "outputs": [
        {
          "output_type": "stream",
          "name": "stdout",
          "text": [
            "[[ 22 256  33 ...   0   0   0]\n",
            " [  3  57  11 ...   0   0   0]\n",
            " [ 21  13  54 ...   0   0   0]\n",
            " ...\n",
            " [ 80 141  34 ...   0   0   0]\n",
            " [ 14  13 272 ...   0   0   0]\n",
            " [ 34   5   7 ...   0   0   0]]\n"
          ]
        }
      ]
    },
    {
      "cell_type": "code",
      "source": [
        "training_labels = np.array(y_train)\n",
        "testing_labels = np.array(y_val)"
      ],
      "metadata": {
        "id": "xxXEjdJDsZL6"
      },
      "execution_count": 372,
      "outputs": []
    },
    {
      "cell_type": "code",
      "source": [],
      "metadata": {
        "id": "AvcqvjE8wv_J"
      },
      "execution_count": 372,
      "outputs": []
    },
    {
      "cell_type": "code",
      "source": [
        "import tensorflow as tf\n",
        "\n",
        "# Parameters\n",
        "embedding_dim = 16\n",
        "dense_dim = 16\n",
        "\n",
        "model = tf.keras.Sequential([\n",
        "    tf.keras.layers.Embedding(vocab_size, embedding_dim, input_length=max_length),\n",
        "    tf.keras.layers.Flatten(),\n",
        "    tf.keras.layers.Dense(16, activation='relu'),\n",
        "    tf.keras.layers.Dense(32, activation='relu'),\n",
        "    tf.keras.layers.Dense(1, activation='sigmoid')\n",
        "])\n",
        "\n",
        "model.compile(loss='binary_crossentropy',optimizer='adam',metrics=['accuracy'])\n",
        "\n",
        "model.summary()"
      ],
      "metadata": {
        "colab": {
          "base_uri": "https://localhost:8080/"
        },
        "id": "m5u6HPPZsqRS",
        "outputId": "cb5806b0-6cca-4f3a-b864-7f25971e6a34"
      },
      "execution_count": 373,
      "outputs": [
        {
          "output_type": "stream",
          "name": "stdout",
          "text": [
            "Model: \"sequential_10\"\n",
            "_________________________________________________________________\n",
            " Layer (type)                Output Shape              Param #   \n",
            "=================================================================\n",
            " embedding_10 (Embedding)    (None, 120, 16)           160000    \n",
            "                                                                 \n",
            " flatten_10 (Flatten)        (None, 1920)              0         \n",
            "                                                                 \n",
            " dense_26 (Dense)            (None, 16)                30736     \n",
            "                                                                 \n",
            " dense_27 (Dense)            (None, 32)                544       \n",
            "                                                                 \n",
            " dense_28 (Dense)            (None, 1)                 33        \n",
            "                                                                 \n",
            "=================================================================\n",
            "Total params: 191,313\n",
            "Trainable params: 191,313\n",
            "Non-trainable params: 0\n",
            "_________________________________________________________________\n"
          ]
        }
      ]
    },
    {
      "cell_type": "code",
      "source": [
        "NUM_EPOCHS = 10\n",
        "\n",
        "# Train the model\n",
        "history = model.fit(train_padded, training_labels, epochs=NUM_EPOCHS, validation_data=(test_padded, testing_labels))"
      ],
      "metadata": {
        "colab": {
          "base_uri": "https://localhost:8080/"
        },
        "id": "ACXlD48hs12x",
        "outputId": "b7650640-5801-4f26-b454-5a307a4de223"
      },
      "execution_count": 374,
      "outputs": [
        {
          "output_type": "stream",
          "name": "stdout",
          "text": [
            "Epoch 1/10\n",
            "3205/3205 [==============================] - 47s 14ms/step - loss: 0.0741 - accuracy: 0.9714 - val_loss: 0.0209 - val_accuracy: 0.9935\n",
            "Epoch 2/10\n",
            "3205/3205 [==============================] - 18s 6ms/step - loss: 0.0194 - accuracy: 0.9942 - val_loss: 0.0171 - val_accuracy: 0.9956\n",
            "Epoch 3/10\n",
            "3205/3205 [==============================] - 17s 5ms/step - loss: 0.0128 - accuracy: 0.9957 - val_loss: 0.0148 - val_accuracy: 0.9964\n",
            "Epoch 4/10\n",
            "3205/3205 [==============================] - 18s 5ms/step - loss: 0.0106 - accuracy: 0.9964 - val_loss: 0.0144 - val_accuracy: 0.9959\n",
            "Epoch 5/10\n",
            "3205/3205 [==============================] - 16s 5ms/step - loss: 0.0098 - accuracy: 0.9965 - val_loss: 0.0124 - val_accuracy: 0.9963\n",
            "Epoch 6/10\n",
            "3205/3205 [==============================] - 17s 5ms/step - loss: 0.0091 - accuracy: 0.9967 - val_loss: 0.0119 - val_accuracy: 0.9964\n",
            "Epoch 7/10\n",
            "3205/3205 [==============================] - 16s 5ms/step - loss: 0.0085 - accuracy: 0.9969 - val_loss: 0.0121 - val_accuracy: 0.9970\n",
            "Epoch 8/10\n",
            "3205/3205 [==============================] - 16s 5ms/step - loss: 0.0078 - accuracy: 0.9970 - val_loss: 0.0143 - val_accuracy: 0.9970\n",
            "Epoch 9/10\n",
            "3205/3205 [==============================] - 17s 5ms/step - loss: 0.0080 - accuracy: 0.9971 - val_loss: 0.0129 - val_accuracy: 0.9972\n",
            "Epoch 10/10\n",
            "3205/3205 [==============================] - 16s 5ms/step - loss: 0.0075 - accuracy: 0.9971 - val_loss: 0.0130 - val_accuracy: 0.9968\n"
          ]
        }
      ]
    },
    {
      "cell_type": "code",
      "source": [
        "import matplotlib.pyplot as plt\n",
        "\n",
        "# Plot Utility\n",
        "def plot_graphs(history, string):\n",
        "  plt.plot(history.history[string])\n",
        "  plt.plot(history.history['val_'+string])\n",
        "  plt.xlabel(\"Epochs\")\n",
        "  plt.ylabel(string)\n",
        "  plt.legend([string, 'val_'+string])\n",
        "  plt.show()\n",
        "\n",
        "# Plot the accuracy and loss history\n",
        "plot_graphs(history, 'accuracy')\n",
        "plot_graphs(history, 'loss')"
      ],
      "metadata": {
        "colab": {
          "base_uri": "https://localhost:8080/",
          "height": 881
        },
        "id": "u-jWt-Hhs9Dx",
        "outputId": "05b94cf8-f88f-4414-e240-21a0aa2a852c"
      },
      "execution_count": 375,
      "outputs": [
        {
          "output_type": "display_data",
          "data": {
            "text/plain": [
              "<Figure size 640x480 with 1 Axes>"
            ],
            "image/png": "[encoded data removed]"
          },
          "metadata": {}
        },
        {
          "output_type": "display_data",
          "data": {
            "text/plain": [
              "<Figure size 640x480 with 1 Axes>"
            ],
            "image/png": "[encoded data removed]"
          },
          "metadata": {}
        }
      ]
    },
    {
      "cell_type": "code",
      "source": [],
      "metadata": {
        "id": "Cs9IOsC8uj86"
      },
      "execution_count": 375,
      "outputs": []
    },
    {
      "cell_type": "markdown",
      "source": [
        "#MODEL TAXINOMINATION\n"
      ],
      "metadata": {
        "id": "df5kCC9T1cIj"
      }
    },
    {
      "cell_type": "code",
      "source": [
        "df3.head()"
      ],
      "metadata": {
        "id": "4_Stgi6JTEOW",
        "colab": {
          "base_uri": "https://localhost:8080/",
          "height": 206
        },
        "outputId": "4f968620-9fcc-4fea-99ce-1077c2530a46"
      },
      "execution_count": 376,
      "outputs": [
        {
          "output_type": "execute_result",
          "data": {
            "text/plain": [
              "                                             KEYWORDS  IS_HCP    TAXONOMY\n",
              "3   Dental|Total|Clinical|Pharmacology|Physicians|...     1.0  2084P0800X\n",
              "8   Intensive Care|Shock|Ischemic Heart Disease|He...     1.0  2084P0804X\n",
              "21  Gastrointestinal Tract|Female|Oncology|Medicin...     1.0  2084N0400X\n",
              "29  Rehabilitation|Transplantation|Clinical|Preven...     1.0  2084V0102X\n",
              "35  Dermatomyositis|Preventive|Male|Dermatology|Ag...     1.0  207RC0000X"
            ],
            "text/html": [
              "\n",
              "  <div id=\"df-14be8e81-8da4-4dc9-bb71-e2f63451521d\">\n",
              "    <div class=\"colab-df-container\">\n",
              "      <div>\n",
              "<style scoped>\n",
              "    .dataframe tbody tr th:only-of-type {\n",
              "        vertical-align: middle;\n",
              "    }\n",
              "\n",
              "    .dataframe tbody tr th {\n",
              "        vertical-align: top;\n",
              "    }\n",
              "\n",
              "    .dataframe thead th {\n",
              "        text-align: right;\n",
              "    }\n",
              "</style>\n",
              "<table border=\"1\" class=\"dataframe\">\n",
              "  <thead>\n",
              "    <tr style=\"text-align: right;\">\n",
              "      <th></th>\n",
              "      <th>KEYWORDS</th>\n",
              "      <th>IS_HCP</th>\n",
              "      <th>TAXONOMY</th>\n",
              "    </tr>\n",
              "  </thead>\n",
              "  <tbody>\n",
              "    <tr>\n",
              "      <th>3</th>\n",
              "      <td>Dental|Total|Clinical|Pharmacology|Physicians|...</td>\n",
              "      <td>1.0</td>\n",
              "      <td>2084P0800X</td>\n",
              "    </tr>\n",
              "    <tr>\n",
              "      <th>8</th>\n",
              "      <td>Intensive Care|Shock|Ischemic Heart Disease|He...</td>\n",
              "      <td>1.0</td>\n",
              "      <td>2084P0804X</td>\n",
              "    </tr>\n",
              "    <tr>\n",
              "      <th>21</th>\n",
              "      <td>Gastrointestinal Tract|Female|Oncology|Medicin...</td>\n",
              "      <td>1.0</td>\n",
              "      <td>2084N0400X</td>\n",
              "    </tr>\n",
              "    <tr>\n",
              "      <th>29</th>\n",
              "      <td>Rehabilitation|Transplantation|Clinical|Preven...</td>\n",
              "      <td>1.0</td>\n",
              "      <td>2084V0102X</td>\n",
              "    </tr>\n",
              "    <tr>\n",
              "      <th>35</th>\n",
              "      <td>Dermatomyositis|Preventive|Male|Dermatology|Ag...</td>\n",
              "      <td>1.0</td>\n",
              "      <td>207RC0000X</td>\n",
              "    </tr>\n",
              "  </tbody>\n",
              "</table>\n",
              "</div>\n",
              "      <button class=\"colab-df-convert\" onclick=\"convertToInteractive('df-14be8e81-8da4-4dc9-bb71-e2f63451521d')\"\n",
              "              title=\"Convert this dataframe to an interactive table.\"\n",
              "              style=\"display:none;\">\n",
              "        \n",
              "  <svg xmlns=\"http://www.w3.org/2000/svg\" height=\"24px\"viewBox=\"0 0 24 24\"\n",
              "       width=\"24px\">\n",
              "    <path d=\"M0 0h24v24H0V0z\" fill=\"none\"/>\n",
              "    <path d=\"M18.56 5.44l.94 2.06.94-2.06 2.06-.94-2.06-.94-.94-2.06-.94 2.06-2.06.94zm-11 1L8.5 8.5l.94-2.06 2.06-.94-2.06-.94L8.5 2.5l-.94 2.06-2.06.94zm10 10l.94 2.06.94-2.06 2.06-.94-2.06-.94-.94-2.06-.94 2.06-2.06.94z\"/><path d=\"M17.41 7.96l-1.37-1.37c-.4-.4-.92-.59-1.43-.59-.52 0-1.04.2-1.43.59L10.3 9.45l-7.72 7.72c-.78.78-.78 2.05 0 2.83L4 21.41c.39.39.9.59 1.41.59.51 0 1.02-.2 1.41-.59l7.78-7.78 2.81-2.81c.8-.78.8-2.07 0-2.86zM5.41 20L4 18.59l7.72-7.72 1.47 1.35L5.41 20z\"/>\n",
              "  </svg>\n",
              "      </button>\n",
              "      \n",
              "  <style>\n",
              "    .colab-df-container {\n",
              "      display:flex;\n",
              "      flex-wrap:wrap;\n",
              "      gap: 12px;\n",
              "    }\n",
              "\n",
              "    .colab-df-convert {\n",
              "      background-color: #E8F0FE;\n",
              "      border: none;\n",
              "      border-radius: 50%;\n",
              "      cursor: pointer;\n",
              "      display: none;\n",
              "      fill: #1967D2;\n",
              "      height: 32px;\n",
              "      padding: 0 0 0 0;\n",
              "      width: 32px;\n",
              "    }\n",
              "\n",
              "    .colab-df-convert:hover {\n",
              "      background-color: #E2EBFA;\n",
              "      box-shadow: 0px 1px 2px rgba(60, 64, 67, 0.3), 0px 1px 3px 1px rgba(60, 64, 67, 0.15);\n",
              "      fill: #174EA6;\n",
              "    }\n",
              "\n",
              "    [theme=dark] .colab-df-convert {\n",
              "      background-color: #3B4455;\n",
              "      fill: #D2E3FC;\n",
              "    }\n",
              "\n",
              "    [theme=dark] .colab-df-convert:hover {\n",
              "      background-color: #434B5C;\n",
              "      box-shadow: 0px 1px 3px 1px rgba(0, 0, 0, 0.15);\n",
              "      filter: drop-shadow(0px 1px 2px rgba(0, 0, 0, 0.3));\n",
              "      fill: #FFFFFF;\n",
              "    }\n",
              "  </style>\n",
              "\n",
              "      <script>\n",
              "        const buttonEl =\n",
              "          document.querySelector('#df-14be8e81-8da4-4dc9-bb71-e2f63451521d button.colab-df-convert');\n",
              "        buttonEl.style.display =\n",
              "          google.colab.kernel.accessAllowed ? 'block' : 'none';\n",
              "\n",
              "        async function convertToInteractive(key) {\n",
              "          const element = document.querySelector('#df-14be8e81-8da4-4dc9-bb71-e2f63451521d');\n",
              "          const dataTable =\n",
              "            await google.colab.kernel.invokeFunction('convertToInteractive',\n",
              "                                                     [key], {});\n",
              "          if (!dataTable) return;\n",
              "\n",
              "          const docLinkHtml = 'Like what you see? Visit the ' +\n",
              "            '<a target=\"_blank\" href=https://colab.research.google.com/notebooks/data_table.ipynb>data table notebook</a>'\n",
              "            + ' to learn more about interactive tables.';\n",
              "          element.innerHTML = '';\n",
              "          dataTable['output_type'] = 'display_data';\n",
              "          await google.colab.output.renderOutput(dataTable, element);\n",
              "          const docLink = document.createElement('div');\n",
              "          docLink.innerHTML = docLinkHtml;\n",
              "          element.appendChild(docLink);\n",
              "        }\n",
              "      </script>\n",
              "    </div>\n",
              "  </div>\n",
              "  "
            ]
          },
          "metadata": {},
          "execution_count": 376
        }
      ]
    },
    {
      "cell_type": "code",
      "source": [
        "df3.isna().sum()"
      ],
      "metadata": {
        "colab": {
          "base_uri": "https://localhost:8080/"
        },
        "id": "kBd8Y5-X_51z",
        "outputId": "213e249a-fca9-4b10-aca6-ea972f771beb"
      },
      "execution_count": 377,
      "outputs": [
        {
          "output_type": "execute_result",
          "data": {
            "text/plain": [
              "KEYWORDS    0\n",
              "IS_HCP      0\n",
              "TAXONOMY    0\n",
              "dtype: int64"
            ]
          },
          "metadata": {},
          "execution_count": 377
        }
      ]
    },
    {
      "cell_type": "code",
      "source": [
        "df3.dropna(inplace = True)"
      ],
      "metadata": {
        "colab": {
          "base_uri": "https://localhost:8080/"
        },
        "id": "eOGZRlaGBhvg",
        "outputId": "d36b1324-dc33-4dfe-9b02-5432abb61630"
      },
      "execution_count": 378,
      "outputs": [
        {
          "output_type": "stream",
          "name": "stderr",
          "text": [
            "<ipython-input-378-3e9cd46e1d6e>:1: SettingWithCopyWarning: \n",
            "A value is trying to be set on a copy of a slice from a DataFrame\n",
            "\n",
            "See the caveats in the documentation: https://pandas.pydata.org/pandas-docs/stable/user_guide/indexing.html#returning-a-view-versus-a-copy\n",
            "  df3.dropna(inplace = True)\n"
          ]
        }
      ]
    },
    {
      "cell_type": "code",
      "source": [
        "df3.shape"
      ],
      "metadata": {
        "colab": {
          "base_uri": "https://localhost:8080/"
        },
        "id": "-SNyPLxpIm7K",
        "outputId": "663e4fec-fa60-4303-e480-d9a0c915b47e"
      },
      "execution_count": 379,
      "outputs": [
        {
          "output_type": "execute_result",
          "data": {
            "text/plain": [
              "(32313, 3)"
            ]
          },
          "metadata": {},
          "execution_count": 379
        }
      ]
    },
    {
      "cell_type": "code",
      "source": [
        "taxo = df3['TAXONOMY']\n",
        "taxo"
      ],
      "metadata": {
        "colab": {
          "base_uri": "https://localhost:8080/"
        },
        "id": "I07qZ_UgA0PR",
        "outputId": "2d92546f-5294-4689-d0ff-3c1703b2c33b"
      },
      "execution_count": 380,
      "outputs": [
        {
          "output_type": "execute_result",
          "data": {
            "text/plain": [
              "3         2084P0800X\n",
              "8         2084P0804X\n",
              "21        2084N0400X\n",
              "29        2084V0102X\n",
              "35        207RC0000X\n",
              "             ...    \n",
              "113932    207RP1001X\n",
              "113933    2084P0800X\n",
              "113934    208000000X\n",
              "113935    2084P0800X\n",
              "113936    2084P0800X\n",
              "Name: TAXONOMY, Length: 32313, dtype: object"
            ]
          },
          "metadata": {},
          "execution_count": 380
        }
      ]
    },
    {
      "cell_type": "code",
      "source": [
        "taxo_list = []\n",
        "for i in taxo:\n",
        "  append_string_to_list(taxo_list,i.lower())"
      ],
      "metadata": {
        "id": "dZotVmRyA8g8"
      },
      "execution_count": 381,
      "outputs": []
    },
    {
      "cell_type": "code",
      "source": [
        "len(taxo_list)"
      ],
      "metadata": {
        "colab": {
          "base_uri": "https://localhost:8080/"
        },
        "id": "2PCgbgmOBGcl",
        "outputId": "df52f703-eafa-4612-ca99-ac2968901afa"
      },
      "execution_count": 382,
      "outputs": [
        {
          "output_type": "execute_result",
          "data": {
            "text/plain": [
              "32313"
            ]
          },
          "metadata": {},
          "execution_count": 382
        }
      ]
    },
    {
      "cell_type": "code",
      "source": [
        "tokenizer = Tokenizer(num_words=vocab_size)\n",
        "tokenizer.fit_on_texts(taxo_list)\n",
        "taxo_index = tokenizer.word_index\n",
        "taxo_seq = tokenizer.texts_to_sequences(taxo_list)\n",
        "taxo_padded = pad_sequences(taxo_seq, maxlen=max_length, padding=padding_type, truncating=trunc_type)"
      ],
      "metadata": {
        "id": "3oggd6-lBkkd"
      },
      "execution_count": 383,
      "outputs": []
    },
    {
      "cell_type": "code",
      "source": [
        "print(taxo_index)"
      ],
      "metadata": {
        "colab": {
          "base_uri": "https://localhost:8080/"
        },
        "id": "JXSNEeJ-Ds3l",
        "outputId": "a9d4c8f2-76b7-405b-9372-678fc80bc5de"
      },
      "execution_count": 384,
      "outputs": [
        {
          "output_type": "stream",
          "name": "stdout",
          "text": [
            "{'2084p0800x': 1, '2084n0400x': 2, '207q00000x': 3, '207r00000x': 4, '208000000x': 5, '207rg0100x': 6, '2084p0804x': 7, '2084n0402x': 8, '207t00000x': 9, '2084n0600x': 10, '207n00000x': 11, '207rh0003x': 12, '207rc0000x': 13, '207w00000x': 14, '207rp1001x': 15, '363lf0000x': 16, '2085r0001x': 17, '208d00000x': 18, '174400000x': 19, '390200000x': 20, '207p00000x': 21, '363a00000x': 22, '207rg0300x': 23, '207v00000x': 24, '207ri0011x': 25, '207rr0500x': 26, '2084v0102x': 27, '2084p0805x': 28, '207re0101x': 29, '363lp0808x': 30, '207zp0105x': 31, '2084s0012x': 32, '207rc0200x': 33, '208m00000x': 34, '363l00000x': 35, '207l00000x': 36, '2084p0802x': 37, '207ri0200x': 38, '363am0700x': 39, '207rx0202x': 40, '2084a0401x': 41, '2084f0202x': 42, '2080p0207x': 43, '2080p0008x': 44, '208100000x': 45, '2084p2900x': 46, '207qg0300x': 47, '204d00000x': 48, '363la2200x': 49, '2085r0202x': 50, '207rn0300x': 51, '207k00000x': 52, '2084p0015x': 53, '207rs0012x': 54, '2084n0008x': 55, '207x00000x': 56, '207rh0000x': 57, '163w00000x': 58, '208vp0014x': 59, '208600000x': 60, '2084a2900x': 61, '207ra0401x': 62, '207y00000x': 63, '363lp0200x': 64, '208800000x': 65, '2080a0000x': 66, '363la2100x': 67, '183500000x': 68, '2081p2900x': 69, '163wp0808x': 70, '207qs0010x': 71, '2083x0100x': 72, '2084b0040x': 73, '207un0901x': 74, '207zp0102x': 75, '207qa0401x': 76, '207vg0400x': 77, '207ka0200x': 78, '208g00000x': 79, '207wx0107x': 80, '2080p0203x': 81, '207qa0505x': 82, '207vm0101x': 83, '2080n0001x': 84, '207ra0000x': 85, '207rh0002x': 86, '207ve0102x': 87, '207qh0002x': 88, '204c00000x': 89, '2080p0206x': 90, '2085n0700x': 91, '364sp0807x': 92, '207ns0135x': 93, '2080s0012x': 94, '204r00000x': 95, '207lp2900x': 96, '208200000x': 97, '207vx0000x': 98, '207pe0004x': 99, '2080p0006x': 100, '122300000x': 101, '363as0400x': 102, '208vp0000x': 103, '2080p0202x': 104, '207sg0201x': 105, '2085r0203x': 106, '2084d0003x': 107, '207ra0201x': 108, '207ra0001x': 109, '364sp0809x': 110, '207ki0005x': 111, '207wx0109x': 112, '207zn0500x': 113, '364sp0808x': 114, '363lp2300x': 115, '2080p0214x': 116, '207qs1201x': 117, '146d00000x': 118, '2080p0210x': 119, '207ys0123x': 120, '363lg0600x': 121, '207nd0900x': 122, '207sg0203x': 123, '103tc0700x': 124, '2080p0205x': 125, '207rc0001x': 126, '207yx0905x': 127, '163wp0809x': 128, '207zb0001x': 129, '2080p0216x': 130, '207zp0213x': 131, '163wp0807x': 132, '1041c0700x': 133, '367500000x': 134, '207zp0101x': 135, '2084p0005x': 136, '207wx0120x': 137, '207vx0201x': 138, '213es0131x': 139, '207pe0005x': 140, '2086s0102x': 141, '2086s0122x': 142, '2080p0208x': 143, '207zd0900x': 144, '367a00000x': 145, '152w00000x': 146, '2081n0008x': 147, '2086x0206x': 148, '207u00000x': 149, '2085r0204x': 150, '207zh0000x': 151, '364s00000x': 152, '207nd0101x': 153, '103t00000x': 154, '2083a0100x': 155, '207yx0901x': 156, '376k00000x': 157, '207yx0007x': 158, '173000000x': 159, '163wp0200x': 160, '2086s0129x': 161, '163wd0400x': 162, '2086s0120x': 163, '207wx0200x': 164, '363lx0001x': 165, '207rb0002x': 166, '207xx0005x': 167, '207ps0010x': 168, '207yp0228x': 169, '363lc1500x': 170, '2084p0301x': 171, '207zc0500x': 172, '207wx0110x': 173, '202c00000x': 174, '2083p0901x': 175, '207xs0106x': 176, '363ln0000x': 177, '2085p0229x': 178, '204f00000x': 179, '207ri0008x': 180, '1835n1003x': 181, '163wc0400x': 182, '106h00000x': 183, '207vf0040x': 184, '364sf0001x': 185, '111n00000x': 186, '207pt0002x': 187, '207rs0010x': 188, '208c00000x': 189, '2081s0010x': 190, '207zf0201x': 191, '282nc2000x': 192, '246qm0706x': 193, '2081h0002x': 194, '2084s0010x': 195, '1223p0221x': 196, '2081p0004x': 197, '1835p1200x': 198, '367h00000x': 199, '2255a2300x': 200, '207pp0204x': 201, '363lw0102x': 202, '1835p2201x': 203, '2085n0904x': 204, '225400000x': 205, '163wg0000x': 206, '207xx0801x': 207}\n"
          ]
        }
      ]
    },
    {
      "cell_type": "code",
      "source": [
        "print(len(taxo_index))\n",
        "type(taxo_index)"
      ],
      "metadata": {
        "colab": {
          "base_uri": "https://localhost:8080/"
        },
        "id": "RSDWJdmIB8Pc",
        "outputId": "32677008-99a7-4f68-9848-cf9829249276"
      },
      "execution_count": 385,
      "outputs": [
        {
          "output_type": "stream",
          "name": "stdout",
          "text": [
            "207\n"
          ]
        },
        {
          "output_type": "execute_result",
          "data": {
            "text/plain": [
              "dict"
            ]
          },
          "metadata": {},
          "execution_count": 385
        }
      ]
    },
    {
      "cell_type": "code",
      "source": [],
      "metadata": {
        "id": "bcxQ37TqDsJJ"
      },
      "execution_count": 385,
      "outputs": []
    },
    {
      "cell_type": "code",
      "source": [
        "tax_num = []\n",
        "for i in df3[\"TAXONOMY\"]:\n",
        "    tax_num.append(taxo_index[i.lower()])"
      ],
      "metadata": {
        "id": "1nwhmsCDB_Bz"
      },
      "execution_count": 386,
      "outputs": []
    },
    {
      "cell_type": "code",
      "source": [
        "print(len(tax_num))"
      ],
      "metadata": {
        "colab": {
          "base_uri": "https://localhost:8080/"
        },
        "id": "3NQQ7OhlCMcl",
        "outputId": "ec47d7ea-3fc8-45c6-8f1e-4d87ecdd7c8f"
      },
      "execution_count": 387,
      "outputs": [
        {
          "output_type": "stream",
          "name": "stdout",
          "text": [
            "32313\n"
          ]
        }
      ]
    },
    {
      "cell_type": "code",
      "source": [
        "df3.insert(loc=2, column='tax_num', value = tax_num)"
      ],
      "metadata": {
        "id": "SAAbr1haC2gF"
      },
      "execution_count": 388,
      "outputs": []
    },
    {
      "cell_type": "code",
      "source": [
        "df3.head()"
      ],
      "metadata": {
        "colab": {
          "base_uri": "https://localhost:8080/",
          "height": 206
        },
        "id": "DaiFbOC0EHG2",
        "outputId": "6b597d16-e022-42a4-f6da-500b6bedd0ae"
      },
      "execution_count": 389,
      "outputs": [
        {
          "output_type": "execute_result",
          "data": {
            "text/plain": [
              "                                             KEYWORDS  IS_HCP  tax_num  \\\n",
              "3   Dental|Total|Clinical|Pharmacology|Physicians|...     1.0        1   \n",
              "8   Intensive Care|Shock|Ischemic Heart Disease|He...     1.0        7   \n",
              "21  Gastrointestinal Tract|Female|Oncology|Medicin...     1.0        2   \n",
              "29  Rehabilitation|Transplantation|Clinical|Preven...     1.0       27   \n",
              "35  Dermatomyositis|Preventive|Male|Dermatology|Ag...     1.0       13   \n",
              "\n",
              "      TAXONOMY  \n",
              "3   2084P0800X  \n",
              "8   2084P0804X  \n",
              "21  2084N0400X  \n",
              "29  2084V0102X  \n",
              "35  207RC0000X  "
            ],
            "text/html": [
              "\n",
              "  <div id=\"df-46051484-3a36-4ccb-a484-249012fca74c\">\n",
              "    <div class=\"colab-df-container\">\n",
              "      <div>\n",
              "<style scoped>\n",
              "    .dataframe tbody tr th:only-of-type {\n",
              "        vertical-align: middle;\n",
              "    }\n",
              "\n",
              "    .dataframe tbody tr th {\n",
              "        vertical-align: top;\n",
              "    }\n",
              "\n",
              "    .dataframe thead th {\n",
              "        text-align: right;\n",
              "    }\n",
              "</style>\n",
              "<table border=\"1\" class=\"dataframe\">\n",
              "  <thead>\n",
              "    <tr style=\"text-align: right;\">\n",
              "      <th></th>\n",
              "      <th>KEYWORDS</th>\n",
              "      <th>IS_HCP</th>\n",
              "      <th>tax_num</th>\n",
              "      <th>TAXONOMY</th>\n",
              "    </tr>\n",
              "  </thead>\n",
              "  <tbody>\n",
              "    <tr>\n",
              "      <th>3</th>\n",
              "      <td>Dental|Total|Clinical|Pharmacology|Physicians|...</td>\n",
              "      <td>1.0</td>\n",
              "      <td>1</td>\n",
              "      <td>2084P0800X</td>\n",
              "    </tr>\n",
              "    <tr>\n",
              "      <th>8</th>\n",
              "      <td>Intensive Care|Shock|Ischemic Heart Disease|He...</td>\n",
              "      <td>1.0</td>\n",
              "      <td>7</td>\n",
              "      <td>2084P0804X</td>\n",
              "    </tr>\n",
              "    <tr>\n",
              "      <th>21</th>\n",
              "      <td>Gastrointestinal Tract|Female|Oncology|Medicin...</td>\n",
              "      <td>1.0</td>\n",
              "      <td>2</td>\n",
              "      <td>2084N0400X</td>\n",
              "    </tr>\n",
              "    <tr>\n",
              "      <th>29</th>\n",
              "      <td>Rehabilitation|Transplantation|Clinical|Preven...</td>\n",
              "      <td>1.0</td>\n",
              "      <td>27</td>\n",
              "      <td>2084V0102X</td>\n",
              "    </tr>\n",
              "    <tr>\n",
              "      <th>35</th>\n",
              "      <td>Dermatomyositis|Preventive|Male|Dermatology|Ag...</td>\n",
              "      <td>1.0</td>\n",
              "      <td>13</td>\n",
              "      <td>207RC0000X</td>\n",
              "    </tr>\n",
              "  </tbody>\n",
              "</table>\n",
              "</div>\n",
              "      <button class=\"colab-df-convert\" onclick=\"convertToInteractive('df-46051484-3a36-4ccb-a484-249012fca74c')\"\n",
              "              title=\"Convert this dataframe to an interactive table.\"\n",
              "              style=\"display:none;\">\n",
              "        \n",
              "  <svg xmlns=\"http://www.w3.org/2000/svg\" height=\"24px\"viewBox=\"0 0 24 24\"\n",
              "       width=\"24px\">\n",
              "    <path d=\"M0 0h24v24H0V0z\" fill=\"none\"/>\n",
              "    <path d=\"M18.56 5.44l.94 2.06.94-2.06 2.06-.94-2.06-.94-.94-2.06-.94 2.06-2.06.94zm-11 1L8.5 8.5l.94-2.06 2.06-.94-2.06-.94L8.5 2.5l-.94 2.06-2.06.94zm10 10l.94 2.06.94-2.06 2.06-.94-2.06-.94-.94-2.06-.94 2.06-2.06.94z\"/><path d=\"M17.41 7.96l-1.37-1.37c-.4-.4-.92-.59-1.43-.59-.52 0-1.04.2-1.43.59L10.3 9.45l-7.72 7.72c-.78.78-.78 2.05 0 2.83L4 21.41c.39.39.9.59 1.41.59.51 0 1.02-.2 1.41-.59l7.78-7.78 2.81-2.81c.8-.78.8-2.07 0-2.86zM5.41 20L4 18.59l7.72-7.72 1.47 1.35L5.41 20z\"/>\n",
              "  </svg>\n",
              "      </button>\n",
              "      \n",
              "  <style>\n",
              "    .colab-df-container {\n",
              "      display:flex;\n",
              "      flex-wrap:wrap;\n",
              "      gap: 12px;\n",
              "    }\n",
              "\n",
              "    .colab-df-convert {\n",
              "      background-color: #E8F0FE;\n",
              "      border: none;\n",
              "      border-radius: 50%;\n",
              "      cursor: pointer;\n",
              "      display: none;\n",
              "      fill: #1967D2;\n",
              "      height: 32px;\n",
              "      padding: 0 0 0 0;\n",
              "      width: 32px;\n",
              "    }\n",
              "\n",
              "    .colab-df-convert:hover {\n",
              "      background-color: #E2EBFA;\n",
              "      box-shadow: 0px 1px 2px rgba(60, 64, 67, 0.3), 0px 1px 3px 1px rgba(60, 64, 67, 0.15);\n",
              "      fill: #174EA6;\n",
              "    }\n",
              "\n",
              "    [theme=dark] .colab-df-convert {\n",
              "      background-color: #3B4455;\n",
              "      fill: #D2E3FC;\n",
              "    }\n",
              "\n",
              "    [theme=dark] .colab-df-convert:hover {\n",
              "      background-color: #434B5C;\n",
              "      box-shadow: 0px 1px 3px 1px rgba(0, 0, 0, 0.15);\n",
              "      filter: drop-shadow(0px 1px 2px rgba(0, 0, 0, 0.3));\n",
              "      fill: #FFFFFF;\n",
              "    }\n",
              "  </style>\n",
              "\n",
              "      <script>\n",
              "        const buttonEl =\n",
              "          document.querySelector('#df-46051484-3a36-4ccb-a484-249012fca74c button.colab-df-convert');\n",
              "        buttonEl.style.display =\n",
              "          google.colab.kernel.accessAllowed ? 'block' : 'none';\n",
              "\n",
              "        async function convertToInteractive(key) {\n",
              "          const element = document.querySelector('#df-46051484-3a36-4ccb-a484-249012fca74c');\n",
              "          const dataTable =\n",
              "            await google.colab.kernel.invokeFunction('convertToInteractive',\n",
              "                                                     [key], {});\n",
              "          if (!dataTable) return;\n",
              "\n",
              "          const docLinkHtml = 'Like what you see? Visit the ' +\n",
              "            '<a target=\"_blank\" href=https://colab.research.google.com/notebooks/data_table.ipynb>data table notebook</a>'\n",
              "            + ' to learn more about interactive tables.';\n",
              "          element.innerHTML = '';\n",
              "          dataTable['output_type'] = 'display_data';\n",
              "          await google.colab.output.renderOutput(dataTable, element);\n",
              "          const docLink = document.createElement('div');\n",
              "          docLink.innerHTML = docLinkHtml;\n",
              "          element.appendChild(docLink);\n",
              "        }\n",
              "      </script>\n",
              "    </div>\n",
              "  </div>\n",
              "  "
            ]
          },
          "metadata": {},
          "execution_count": 389
        }
      ]
    },
    {
      "cell_type": "code",
      "source": [
        "from sklearn.preprocessing import StandardScaler\n",
        "scaler = StandardScaler()\n",
        "df3[\"std_tax_num\"] = scaler.fit_transform(df3[[\"tax_num\"]])\n"
      ],
      "metadata": {
        "colab": {
          "base_uri": "https://localhost:8080/"
        },
        "id": "6ory_j3ZGyPn",
        "outputId": "528c68dd-f6c0-4115-8682-fc580b6e9501"
      },
      "execution_count": 390,
      "outputs": [
        {
          "output_type": "stream",
          "name": "stderr",
          "text": [
            "<ipython-input-390-7037f93880b8>:3: SettingWithCopyWarning: \n",
            "A value is trying to be set on a copy of a slice from a DataFrame.\n",
            "Try using .loc[row_indexer,col_indexer] = value instead\n",
            "\n",
            "See the caveats in the documentation: https://pandas.pydata.org/pandas-docs/stable/user_guide/indexing.html#returning-a-view-versus-a-copy\n",
            "  df3[\"std_tax_num\"] = scaler.fit_transform(df3[[\"tax_num\"]])\n"
          ]
        }
      ]
    },
    {
      "cell_type": "code",
      "source": [
        "df3.head()"
      ],
      "metadata": {
        "colab": {
          "base_uri": "https://localhost:8080/",
          "height": 206
        },
        "id": "WtzYU-6RHrdH",
        "outputId": "db883964-095b-4ec8-96d4-e45694c63d97"
      },
      "execution_count": 391,
      "outputs": [
        {
          "output_type": "execute_result",
          "data": {
            "text/plain": [
              "                                             KEYWORDS  IS_HCP  tax_num  \\\n",
              "3   Dental|Total|Clinical|Pharmacology|Physicians|...     1.0        1   \n",
              "8   Intensive Care|Shock|Ischemic Heart Disease|He...     1.0        7   \n",
              "21  Gastrointestinal Tract|Female|Oncology|Medicin...     1.0        2   \n",
              "29  Rehabilitation|Transplantation|Clinical|Preven...     1.0       27   \n",
              "35  Dermatomyositis|Preventive|Male|Dermatology|Ag...     1.0       13   \n",
              "\n",
              "      TAXONOMY  std_tax_num  \n",
              "3   2084P0800X    -0.457075  \n",
              "8   2084P0804X    -0.147795  \n",
              "21  2084N0400X    -0.405528  \n",
              "29  2084V0102X     0.883138  \n",
              "35  207RC0000X     0.161485  "
            ],
            "text/html": [
              "\n",
              "  <div id=\"df-4dd22f19-08ae-4271-9a10-1caaaf0fa48b\">\n",
              "    <div class=\"colab-df-container\">\n",
              "      <div>\n",
              "<style scoped>\n",
              "    .dataframe tbody tr th:only-of-type {\n",
              "        vertical-align: middle;\n",
              "    }\n",
              "\n",
              "    .dataframe tbody tr th {\n",
              "        vertical-align: top;\n",
              "    }\n",
              "\n",
              "    .dataframe thead th {\n",
              "        text-align: right;\n",
              "    }\n",
              "</style>\n",
              "<table border=\"1\" class=\"dataframe\">\n",
              "  <thead>\n",
              "    <tr style=\"text-align: right;\">\n",
              "      <th></th>\n",
              "      <th>KEYWORDS</th>\n",
              "      <th>IS_HCP</th>\n",
              "      <th>tax_num</th>\n",
              "      <th>TAXONOMY</th>\n",
              "      <th>std_tax_num</th>\n",
              "    </tr>\n",
              "  </thead>\n",
              "  <tbody>\n",
              "    <tr>\n",
              "      <th>3</th>\n",
              "      <td>Dental|Total|Clinical|Pharmacology|Physicians|...</td>\n",
              "      <td>1.0</td>\n",
              "      <td>1</td>\n",
              "      <td>2084P0800X</td>\n",
              "      <td>-0.457075</td>\n",
              "    </tr>\n",
              "    <tr>\n",
              "      <th>8</th>\n",
              "      <td>Intensive Care|Shock|Ischemic Heart Disease|He...</td>\n",
              "      <td>1.0</td>\n",
              "      <td>7</td>\n",
              "      <td>2084P0804X</td>\n",
              "      <td>-0.147795</td>\n",
              "    </tr>\n",
              "    <tr>\n",
              "      <th>21</th>\n",
              "      <td>Gastrointestinal Tract|Female|Oncology|Medicin...</td>\n",
              "      <td>1.0</td>\n",
              "      <td>2</td>\n",
              "      <td>2084N0400X</td>\n",
              "      <td>-0.405528</td>\n",
              "    </tr>\n",
              "    <tr>\n",
              "      <th>29</th>\n",
              "      <td>Rehabilitation|Transplantation|Clinical|Preven...</td>\n",
              "      <td>1.0</td>\n",
              "      <td>27</td>\n",
              "      <td>2084V0102X</td>\n",
              "      <td>0.883138</td>\n",
              "    </tr>\n",
              "    <tr>\n",
              "      <th>35</th>\n",
              "      <td>Dermatomyositis|Preventive|Male|Dermatology|Ag...</td>\n",
              "      <td>1.0</td>\n",
              "      <td>13</td>\n",
              "      <td>207RC0000X</td>\n",
              "      <td>0.161485</td>\n",
              "    </tr>\n",
              "  </tbody>\n",
              "</table>\n",
              "</div>\n",
              "      <button class=\"colab-df-convert\" onclick=\"convertToInteractive('df-4dd22f19-08ae-4271-9a10-1caaaf0fa48b')\"\n",
              "              title=\"Convert this dataframe to an interactive table.\"\n",
              "              style=\"display:none;\">\n",
              "        \n",
              "  <svg xmlns=\"http://www.w3.org/2000/svg\" height=\"24px\"viewBox=\"0 0 24 24\"\n",
              "       width=\"24px\">\n",
              "    <path d=\"M0 0h24v24H0V0z\" fill=\"none\"/>\n",
              "    <path d=\"M18.56 5.44l.94 2.06.94-2.06 2.06-.94-2.06-.94-.94-2.06-.94 2.06-2.06.94zm-11 1L8.5 8.5l.94-2.06 2.06-.94-2.06-.94L8.5 2.5l-.94 2.06-2.06.94zm10 10l.94 2.06.94-2.06 2.06-.94-2.06-.94-.94-2.06-.94 2.06-2.06.94z\"/><path d=\"M17.41 7.96l-1.37-1.37c-.4-.4-.92-.59-1.43-.59-.52 0-1.04.2-1.43.59L10.3 9.45l-7.72 7.72c-.78.78-.78 2.05 0 2.83L4 21.41c.39.39.9.59 1.41.59.51 0 1.02-.2 1.41-.59l7.78-7.78 2.81-2.81c.8-.78.8-2.07 0-2.86zM5.41 20L4 18.59l7.72-7.72 1.47 1.35L5.41 20z\"/>\n",
              "  </svg>\n",
              "      </button>\n",
              "      \n",
              "  <style>\n",
              "    .colab-df-container {\n",
              "      display:flex;\n",
              "      flex-wrap:wrap;\n",
              "      gap: 12px;\n",
              "    }\n",
              "\n",
              "    .colab-df-convert {\n",
              "      background-color: #E8F0FE;\n",
              "      border: none;\n",
              "      border-radius: 50%;\n",
              "      cursor: pointer;\n",
              "      display: none;\n",
              "      fill: #1967D2;\n",
              "      height: 32px;\n",
              "      padding: 0 0 0 0;\n",
              "      width: 32px;\n",
              "    }\n",
              "\n",
              "    .colab-df-convert:hover {\n",
              "      background-color: #E2EBFA;\n",
              "      box-shadow: 0px 1px 2px rgba(60, 64, 67, 0.3), 0px 1px 3px 1px rgba(60, 64, 67, 0.15);\n",
              "      fill: #174EA6;\n",
              "    }\n",
              "\n",
              "    [theme=dark] .colab-df-convert {\n",
              "      background-color: #3B4455;\n",
              "      fill: #D2E3FC;\n",
              "    }\n",
              "\n",
              "    [theme=dark] .colab-df-convert:hover {\n",
              "      background-color: #434B5C;\n",
              "      box-shadow: 0px 1px 3px 1px rgba(0, 0, 0, 0.15);\n",
              "      filter: drop-shadow(0px 1px 2px rgba(0, 0, 0, 0.3));\n",
              "      fill: #FFFFFF;\n",
              "    }\n",
              "  </style>\n",
              "\n",
              "      <script>\n",
              "        const buttonEl =\n",
              "          document.querySelector('#df-4dd22f19-08ae-4271-9a10-1caaaf0fa48b button.colab-df-convert');\n",
              "        buttonEl.style.display =\n",
              "          google.colab.kernel.accessAllowed ? 'block' : 'none';\n",
              "\n",
              "        async function convertToInteractive(key) {\n",
              "          const element = document.querySelector('#df-4dd22f19-08ae-4271-9a10-1caaaf0fa48b');\n",
              "          const dataTable =\n",
              "            await google.colab.kernel.invokeFunction('convertToInteractive',\n",
              "                                                     [key], {});\n",
              "          if (!dataTable) return;\n",
              "\n",
              "          const docLinkHtml = 'Like what you see? Visit the ' +\n",
              "            '<a target=\"_blank\" href=https://colab.research.google.com/notebooks/data_table.ipynb>data table notebook</a>'\n",
              "            + ' to learn more about interactive tables.';\n",
              "          element.innerHTML = '';\n",
              "          dataTable['output_type'] = 'display_data';\n",
              "          await google.colab.output.renderOutput(dataTable, element);\n",
              "          const docLink = document.createElement('div');\n",
              "          docLink.innerHTML = docLinkHtml;\n",
              "          element.appendChild(docLink);\n",
              "        }\n",
              "      </script>\n",
              "    </div>\n",
              "  </div>\n",
              "  "
            ]
          },
          "metadata": {},
          "execution_count": 391
        }
      ]
    },
    {
      "cell_type": "code",
      "source": [],
      "metadata": {
        "id": "YLUyKGP9JJWf"
      },
      "execution_count": 391,
      "outputs": []
    },
    {
      "cell_type": "code",
      "source": [
        "x_taxo = df3[\"KEYWORDS\"]"
      ],
      "metadata": {
        "id": "1AxenJYGEIoc"
      },
      "execution_count": 392,
      "outputs": []
    },
    {
      "cell_type": "code",
      "source": [
        "x_taxo_list = []\n",
        "for i in x_taxo:\n",
        "    x_taxo_list.append(i.lower())"
      ],
      "metadata": {
        "id": "kFJpH_mrEm8e"
      },
      "execution_count": 393,
      "outputs": []
    },
    {
      "cell_type": "code",
      "source": [
        "tokenizer = Tokenizer(num_words=vocab_size)\n",
        "tokenizer.fit_on_texts(taxo_list)\n",
        "word_index = tokenizer.word_index\n",
        "taxo_seq = tokenizer.texts_to_sequences(taxo_list)\n",
        "taxo_padded = pad_sequences(taxo_seq, maxlen=max_length, padding=padding_type, truncating=trunc_type)"
      ],
      "metadata": {
        "id": "GNkOalL7E40G"
      },
      "execution_count": 394,
      "outputs": []
    },
    {
      "cell_type": "code",
      "source": [
        "print(taxo_padded)"
      ],
      "metadata": {
        "colab": {
          "base_uri": "https://localhost:8080/"
        },
        "id": "LYWTPKElE7MG",
        "outputId": "e5adfb7e-8ddc-4cca-c8fc-111f53d6cd2c"
      },
      "execution_count": 395,
      "outputs": [
        {
          "output_type": "stream",
          "name": "stdout",
          "text": [
            "[[1 0 0 ... 0 0 0]\n",
            " [7 0 0 ... 0 0 0]\n",
            " [2 0 0 ... 0 0 0]\n",
            " ...\n",
            " [5 0 0 ... 0 0 0]\n",
            " [1 0 0 ... 0 0 0]\n",
            " [1 0 0 ... 0 0 0]]\n"
          ]
        }
      ]
    },
    {
      "cell_type": "code",
      "source": [
        "y_taxo = df3[\"tax_num\"]"
      ],
      "metadata": {
        "id": "8_nUE342JDiA"
      },
      "execution_count": 396,
      "outputs": []
    },
    {
      "cell_type": "code",
      "source": [
        "from sklearn.model_selection import train_test_split\n",
        "xtaxo_train, xtaxo_val, ytaxo_train, ytaxo_val = train_test_split(taxo_padded, y_taxo, test_size=0.2, random_state=42)"
      ],
      "metadata": {
        "id": "hMsw_HCCFRxR"
      },
      "execution_count": 397,
      "outputs": []
    },
    {
      "cell_type": "code",
      "source": [
        "from xgboost import XGBRFRegressor\n",
        "from sklearn.metrics import mean_squared_log_error\n",
        "model_taxo = XGBRFRegressor()\n",
        "\n",
        "# Train the model\n",
        "model_taxo.fit(xtaxo_train,ytaxo_train)"
      ],
      "metadata": {
        "colab": {
          "base_uri": "https://localhost:8080/",
          "height": 252
        },
        "id": "JaBfmyR6KFBE",
        "outputId": "70eaacb8-64a1-43d8-a9d1-4cd47a3e904d"
      },
      "execution_count": 398,
      "outputs": [
        {
          "output_type": "execute_result",
          "data": {
            "text/plain": [
              "XGBRFRegressor(base_score=None, booster=None, callbacks=None,\n",
              "               colsample_bylevel=None, colsample_bytree=None,\n",
              "               early_stopping_rounds=None, enable_categorical=False,\n",
              "               eval_metric=None, feature_types=None, gamma=None, gpu_id=None,\n",
              "               grow_policy=None, importance_type=None,\n",
              "               interaction_constraints=None, max_bin=None,\n",
              "               max_cat_threshold=None, max_cat_to_onehot=None,\n",
              "               max_delta_step=None, max_depth=None, max_leaves=None,\n",
              "               min_child_weight=None, missing=nan, monotone_constraints=None,\n",
              "               n_estimators=100, n_jobs=None, num_parallel_tree=None,\n",
              "               objective='reg:squarederror', predictor=None, random_state=None,\n",
              "               reg_alpha=None, ...)"
            ],
            "text/html": [
              "<style>#sk-container-id-5 {color: black;background-color: white;}#sk-container-id-5 pre{padding: 0;}#sk-container-id-5 div.sk-toggleable {background-color: white;}#sk-container-id-5 label.sk-toggleable__label {cursor: pointer;display: block;width: 100%;margin-bottom: 0;padding: 0.3em;box-sizing: border-box;text-align: center;}#sk-container-id-5 label.sk-toggleable__label-arrow:before {content: \"▸\";float: left;margin-right: 0.25em;color: #696969;}#sk-container-id-5 label.sk-toggleable__label-arrow:hover:before {color: black;}#sk-container-id-5 div.sk-estimator:hover label.sk-toggleable__label-arrow:before {color: black;}#sk-container-id-5 div.sk-toggleable__content {max-height: 0;max-width: 0;overflow: hidden;text-align: left;background-color: #f0f8ff;}#sk-container-id-5 div.sk-toggleable__content pre {margin: 0.2em;color: black;border-radius: 0.25em;background-color: #f0f8ff;}#sk-container-id-5 input.sk-toggleable__control:checked~div.sk-toggleable__content {max-height: 200px;max-width: 100%;overflow: auto;}#sk-container-id-5 input.sk-toggleable__control:checked~label.sk-toggleable__label-arrow:before {content: \"▾\";}#sk-container-id-5 div.sk-estimator input.sk-toggleable__control:checked~label.sk-toggleable__label {background-color: #d4ebff;}#sk-container-id-5 div.sk-label input.sk-toggleable__control:checked~label.sk-toggleable__label {background-color: #d4ebff;}#sk-container-id-5 input.sk-hidden--visually {border: 0;clip: rect(1px 1px 1px 1px);clip: rect(1px, 1px, 1px, 1px);height: 1px;margin: -1px;overflow: hidden;padding: 0;position: absolute;width: 1px;}#sk-container-id-5 div.sk-estimator {font-family: monospace;background-color: #f0f8ff;border: 1px dotted black;border-radius: 0.25em;box-sizing: border-box;margin-bottom: 0.5em;}#sk-container-id-5 div.sk-estimator:hover {background-color: #d4ebff;}#sk-container-id-5 div.sk-parallel-item::after {content: \"\";width: 100%;border-bottom: 1px solid gray;flex-grow: 1;}#sk-container-id-5 div.sk-label:hover label.sk-toggleable__label {background-color: #d4ebff;}#sk-container-id-5 div.sk-serial::before {content: \"\";position: absolute;border-left: 1px solid gray;box-sizing: border-box;top: 0;bottom: 0;left: 50%;z-index: 0;}#sk-container-id-5 div.sk-serial {display: flex;flex-direction: column;align-items: center;background-color: white;padding-right: 0.2em;padding-left: 0.2em;position: relative;}#sk-container-id-5 div.sk-item {position: relative;z-index: 1;}#sk-container-id-5 div.sk-parallel {display: flex;align-items: stretch;justify-content: center;background-color: white;position: relative;}#sk-container-id-5 div.sk-item::before, #sk-container-id-5 div.sk-parallel-item::before {content: \"\";position: absolute;border-left: 1px solid gray;box-sizing: border-box;top: 0;bottom: 0;left: 50%;z-index: -1;}#sk-container-id-5 div.sk-parallel-item {display: flex;flex-direction: column;z-index: 1;position: relative;background-color: white;}#sk-container-id-5 div.sk-parallel-item:first-child::after {align-self: flex-end;width: 50%;}#sk-container-id-5 div.sk-parallel-item:last-child::after {align-self: flex-start;width: 50%;}#sk-container-id-5 div.sk-parallel-item:only-child::after {width: 0;}#sk-container-id-5 div.sk-dashed-wrapped {border: 1px dashed gray;margin: 0 0.4em 0.5em 0.4em;box-sizing: border-box;padding-bottom: 0.4em;background-color: white;}#sk-container-id-5 div.sk-label label {font-family: monospace;font-weight: bold;display: inline-block;line-height: 1.2em;}#sk-container-id-5 div.sk-label-container {text-align: center;}#sk-container-id-5 div.sk-container {/* jupyter's `normalize.less` sets `[hidden] { display: none; }` but bootstrap.min.css set `[hidden] { display: none !important; }` so we also need the `!important` here to be able to override the default hidden behavior on the sphinx rendered scikit-learn.org. See: https://github.com/scikit-learn/scikit-learn/issues/21755 */display: inline-block !important;position: relative;}#sk-container-id-5 div.sk-text-repr-fallback {display: none;}</style><div id=\"sk-container-id-5\" class=\"sk-top-container\"><div class=\"sk-text-repr-fallback\"><pre>XGBRFRegressor(base_score=None, booster=None, callbacks=None,\n",
              "               colsample_bylevel=None, colsample_bytree=None,\n",
              "               early_stopping_rounds=None, enable_categorical=False,\n",
              "               eval_metric=None, feature_types=None, gamma=None, gpu_id=None,\n",
              "               grow_policy=None, importance_type=None,\n",
              "               interaction_constraints=None, max_bin=None,\n",
              "               max_cat_threshold=None, max_cat_to_onehot=None,\n",
              "               max_delta_step=None, max_depth=None, max_leaves=None,\n",
              "               min_child_weight=None, missing=nan, monotone_constraints=None,\n",
              "               n_estimators=100, n_jobs=None, num_parallel_tree=None,\n",
              "               objective=&#x27;reg:squarederror&#x27;, predictor=None, random_state=None,\n",
              "               reg_alpha=None, ...)</pre><b>In a Jupyter environment, please rerun this cell to show the HTML representation or trust the notebook. <br />On GitHub, the HTML representation is unable to render, please try loading this page with nbviewer.org.</b></div><div class=\"sk-container\" hidden><div class=\"sk-item\"><div class=\"sk-estimator sk-toggleable\"><input class=\"sk-toggleable__control sk-hidden--visually\" id=\"sk-estimator-id-5\" type=\"checkbox\" checked><label for=\"sk-estimator-id-5\" class=\"sk-toggleable__label sk-toggleable__label-arrow\">XGBRFRegressor</label><div class=\"sk-toggleable__content\"><pre>XGBRFRegressor(base_score=None, booster=None, callbacks=None,\n",
              "               colsample_bylevel=None, colsample_bytree=None,\n",
              "               early_stopping_rounds=None, enable_categorical=False,\n",
              "               eval_metric=None, feature_types=None, gamma=None, gpu_id=None,\n",
              "               grow_policy=None, importance_type=None,\n",
              "               interaction_constraints=None, max_bin=None,\n",
              "               max_cat_threshold=None, max_cat_to_onehot=None,\n",
              "               max_delta_step=None, max_depth=None, max_leaves=None,\n",
              "               min_child_weight=None, missing=nan, monotone_constraints=None,\n",
              "               n_estimators=100, n_jobs=None, num_parallel_tree=None,\n",
              "               objective=&#x27;reg:squarederror&#x27;, predictor=None, random_state=None,\n",
              "               reg_alpha=None, ...)</pre></div></div></div></div></div>"
            ]
          },
          "metadata": {},
          "execution_count": 398
        }
      ]
    },
    {
      "cell_type": "code",
      "source": [
        "y_pred_val = model_taxo.predict(xtaxo_val)\n",
        "for i in range(len(y_pred_val)):\n",
        "      y_pred_val[i] = int(y_pred_val[i])"
      ],
      "metadata": {
        "id": "75Ou_tGENnjR"
      },
      "execution_count": 399,
      "outputs": []
    },
    {
      "cell_type": "code",
      "source": [
        "rmsle = np.sqrt(mean_squared_log_error(ytaxo_val, y_pred_val))\n",
        "print(f\"Validation RMSLE: {rmsle}\")"
      ],
      "metadata": {
        "colab": {
          "base_uri": "https://localhost:8080/"
        },
        "id": "XBRUxUu1N_3k",
        "outputId": "a2ec7e34-f4c9-4bf2-9e2a-b72c860be879"
      },
      "execution_count": 400,
      "outputs": [
        {
          "output_type": "stream",
          "name": "stdout",
          "text": [
            "Validation RMSLE: 0.5382211260229162\n"
          ]
        }
      ]
    },
    {
      "cell_type": "code",
      "source": [],
      "metadata": {
        "id": "sWq4cS08OHD8"
      },
      "execution_count": 400,
      "outputs": []
    },
    {
      "cell_type": "markdown",
      "source": [
        "# PREDICT RESULT"
      ],
      "metadata": {
        "id": "T9JRIxLcQun8"
      }
    },
    {
      "cell_type": "code",
      "source": [
        "predict_df = pd.read_csv('Doceree-HCP_Test.csv')\n",
        "predict_df.shape"
      ],
      "metadata": {
        "colab": {
          "base_uri": "https://localhost:8080/"
        },
        "id": "u2WYiVaeQu1X",
        "outputId": "3bd1938c-e624-4f97-8a3a-d9348cfe31ad"
      },
      "execution_count": 401,
      "outputs": [
        {
          "output_type": "execute_result",
          "data": {
            "text/plain": [
              "(28493, 12)"
            ]
          },
          "metadata": {},
          "execution_count": 401
        }
      ]
    },
    {
      "cell_type": "code",
      "source": [
        "predict_df.head()"
      ],
      "metadata": {
        "colab": {
          "base_uri": "https://localhost:8080/",
          "height": 635
        },
        "id": "Ucl6whzKRCZM",
        "outputId": "b501cd52-4469-43c4-9171-03e2a83e4fb6"
      },
      "execution_count": 402,
      "outputs": [
        {
          "output_type": "execute_result",
          "data": {
            "text/plain": [
              "       ID DEVICETYPE  PLATFORM_ID     BIDREQUESTIP  \\\n",
              "0  115501    Desktop            2   75.189.231.103   \n",
              "1  115502     Mobile            2    24.101.33.158   \n",
              "2  115503    Desktop            2  172.118.216.142   \n",
              "3  115504    Desktop            7   71.105.120.171   \n",
              "4  115505    Desktop            2     73.82.211.73   \n",
              "\n",
              "                        USERPLATFORMUID       USERCITY  USERZIPCODE  \\\n",
              "0  0d5041ff-f0b6-4d1a-9ad7-0a29f7d485b4   Fayetteville      28305.0   \n",
              "1  c8396dd0-969f-4d99-a40b-b7bb1f516154  Conneaut Lake      16316.0   \n",
              "2  3c97a081-6518-43f8-9f26-369759cfb471         Covina      91724.0   \n",
              "3  3e2578c8-f794-41af-a38c-c5cfb3c0f014       Brooklyn      11226.0   \n",
              "4  ec2ae7ce-6a8c-4156-98a7-07203e60f483       Marietta      30062.0   \n",
              "\n",
              "                                           USERAGENT            PLATFORMTYPE  \\\n",
              "0  Mozilla/5.0 (Macintosh; Intel Mac OS X 10_11_6...  Online Medical Journal   \n",
              "1  Mozilla/5.0 (iPhone; CPU iPhone OS 15_6_1 like...  Online Medical Journal   \n",
              "2  Mozilla/5.0 (Macintosh; Intel Mac OS X 10_15_7...  Online Medical Journal   \n",
              "3  Mozilla/5.0 (Macintosh; Intel Mac OS X 10_15_7...  Online Medical Journal   \n",
              "4  Mozilla/5.0 (Windows NT 10.0; Win64; x64) Appl...  Online Medical Journal   \n",
              "\n",
              "  CHANNELTYPE                                                URL  \\\n",
              "0     Website  https://www.clinicaladvisor.com/home/features/...   \n",
              "1     Website  https://www.ophthalmologyadvisor.com/topics/ca...   \n",
              "2     Website  https://www.psychiatryadvisor.com/author/tori-...   \n",
              "3     Website  https://www.cureus.com/articles/105482-diverti...   \n",
              "4     Website  https://www.renalandurologynews.com/home/confe...   \n",
              "\n",
              "                                            KEYWORDS  \n",
              "0  Family Practice|Drainage|Clinical|Dermatology|...  \n",
              "1  General|Clinical|Operative|Medicine|Cardiology...  \n",
              "2  Abortion|Anxiety Disorders|Apnea|False|Trauma|...  \n",
              "3  Health|Male|Neurological Surgery|Otolaryngolog...  \n",
              "4  chronic kidney disease|pain|nephrology|disease...  "
            ],
            "text/html": [
              "\n",
              "  <div id=\"df-b37cf1d5-fd66-4ff2-8eaf-700586186203\">\n",
              "    <div class=\"colab-df-container\">\n",
              "      <div>\n",
              "<style scoped>\n",
              "    .dataframe tbody tr th:only-of-type {\n",
              "        vertical-align: middle;\n",
              "    }\n",
              "\n",
              "    .dataframe tbody tr th {\n",
              "        vertical-align: top;\n",
              "    }\n",
              "\n",
              "    .dataframe thead th {\n",
              "        text-align: right;\n",
              "    }\n",
              "</style>\n",
              "<table border=\"1\" class=\"dataframe\">\n",
              "  <thead>\n",
              "    <tr style=\"text-align: right;\">\n",
              "      <th></th>\n",
              "      <th>ID</th>\n",
              "      <th>DEVICETYPE</th>\n",
              "      <th>PLATFORM_ID</th>\n",
              "      <th>BIDREQUESTIP</th>\n",
              "      <th>USERPLATFORMUID</th>\n",
              "      <th>USERCITY</th>\n",
              "      <th>USERZIPCODE</th>\n",
              "      <th>USERAGENT</th>\n",
              "      <th>PLATFORMTYPE</th>\n",
              "      <th>CHANNELTYPE</th>\n",
              "      <th>URL</th>\n",
              "      <th>KEYWORDS</th>\n",
              "    </tr>\n",
              "  </thead>\n",
              "  <tbody>\n",
              "    <tr>\n",
              "      <th>0</th>\n",
              "      <td>115501</td>\n",
              "      <td>Desktop</td>\n",
              "      <td>2</td>\n",
              "      <td>75.189.231.103</td>\n",
              "      <td>0d5041ff-f0b6-4d1a-9ad7-0a29f7d485b4</td>\n",
              "      <td>Fayetteville</td>\n",
              "      <td>28305.0</td>\n",
              "      <td>Mozilla/5.0 (Macintosh; Intel Mac OS X 10_11_6...</td>\n",
              "      <td>Online Medical Journal</td>\n",
              "      <td>Website</td>\n",
              "      <td>https://www.clinicaladvisor.com/home/features/...</td>\n",
              "      <td>Family Practice|Drainage|Clinical|Dermatology|...</td>\n",
              "    </tr>\n",
              "    <tr>\n",
              "      <th>1</th>\n",
              "      <td>115502</td>\n",
              "      <td>Mobile</td>\n",
              "      <td>2</td>\n",
              "      <td>24.101.33.158</td>\n",
              "      <td>c8396dd0-969f-4d99-a40b-b7bb1f516154</td>\n",
              "      <td>Conneaut Lake</td>\n",
              "      <td>16316.0</td>\n",
              "      <td>Mozilla/5.0 (iPhone; CPU iPhone OS 15_6_1 like...</td>\n",
              "      <td>Online Medical Journal</td>\n",
              "      <td>Website</td>\n",
              "      <td>https://www.ophthalmologyadvisor.com/topics/ca...</td>\n",
              "      <td>General|Clinical|Operative|Medicine|Cardiology...</td>\n",
              "    </tr>\n",
              "    <tr>\n",
              "      <th>2</th>\n",
              "      <td>115503</td>\n",
              "      <td>Desktop</td>\n",
              "      <td>2</td>\n",
              "      <td>172.118.216.142</td>\n",
              "      <td>3c97a081-6518-43f8-9f26-369759cfb471</td>\n",
              "      <td>Covina</td>\n",
              "      <td>91724.0</td>\n",
              "      <td>Mozilla/5.0 (Macintosh; Intel Mac OS X 10_15_7...</td>\n",
              "      <td>Online Medical Journal</td>\n",
              "      <td>Website</td>\n",
              "      <td>https://www.psychiatryadvisor.com/author/tori-...</td>\n",
              "      <td>Abortion|Anxiety Disorders|Apnea|False|Trauma|...</td>\n",
              "    </tr>\n",
              "    <tr>\n",
              "      <th>3</th>\n",
              "      <td>115504</td>\n",
              "      <td>Desktop</td>\n",
              "      <td>7</td>\n",
              "      <td>71.105.120.171</td>\n",
              "      <td>3e2578c8-f794-41af-a38c-c5cfb3c0f014</td>\n",
              "      <td>Brooklyn</td>\n",
              "      <td>11226.0</td>\n",
              "      <td>Mozilla/5.0 (Macintosh; Intel Mac OS X 10_15_7...</td>\n",
              "      <td>Online Medical Journal</td>\n",
              "      <td>Website</td>\n",
              "      <td>https://www.cureus.com/articles/105482-diverti...</td>\n",
              "      <td>Health|Male|Neurological Surgery|Otolaryngolog...</td>\n",
              "    </tr>\n",
              "    <tr>\n",
              "      <th>4</th>\n",
              "      <td>115505</td>\n",
              "      <td>Desktop</td>\n",
              "      <td>2</td>\n",
              "      <td>73.82.211.73</td>\n",
              "      <td>ec2ae7ce-6a8c-4156-98a7-07203e60f483</td>\n",
              "      <td>Marietta</td>\n",
              "      <td>30062.0</td>\n",
              "      <td>Mozilla/5.0 (Windows NT 10.0; Win64; x64) Appl...</td>\n",
              "      <td>Online Medical Journal</td>\n",
              "      <td>Website</td>\n",
              "      <td>https://www.renalandurologynews.com/home/confe...</td>\n",
              "      <td>chronic kidney disease|pain|nephrology|disease...</td>\n",
              "    </tr>\n",
              "  </tbody>\n",
              "</table>\n",
              "</div>\n",
              "      <button class=\"colab-df-convert\" onclick=\"convertToInteractive('df-b37cf1d5-fd66-4ff2-8eaf-700586186203')\"\n",
              "              title=\"Convert this dataframe to an interactive table.\"\n",
              "              style=\"display:none;\">\n",
              "        \n",
              "  <svg xmlns=\"http://www.w3.org/2000/svg\" height=\"24px\"viewBox=\"0 0 24 24\"\n",
              "       width=\"24px\">\n",
              "    <path d=\"M0 0h24v24H0V0z\" fill=\"none\"/>\n",
              "    <path d=\"M18.56 5.44l.94 2.06.94-2.06 2.06-.94-2.06-.94-.94-2.06-.94 2.06-2.06.94zm-11 1L8.5 8.5l.94-2.06 2.06-.94-2.06-.94L8.5 2.5l-.94 2.06-2.06.94zm10 10l.94 2.06.94-2.06 2.06-.94-2.06-.94-.94-2.06-.94 2.06-2.06.94z\"/><path d=\"M17.41 7.96l-1.37-1.37c-.4-.4-.92-.59-1.43-.59-.52 0-1.04.2-1.43.59L10.3 9.45l-7.72 7.72c-.78.78-.78 2.05 0 2.83L4 21.41c.39.39.9.59 1.41.59.51 0 1.02-.2 1.41-.59l7.78-7.78 2.81-2.81c.8-.78.8-2.07 0-2.86zM5.41 20L4 18.59l7.72-7.72 1.47 1.35L5.41 20z\"/>\n",
              "  </svg>\n",
              "      </button>\n",
              "      \n",
              "  <style>\n",
              "    .colab-df-container {\n",
              "      display:flex;\n",
              "      flex-wrap:wrap;\n",
              "      gap: 12px;\n",
              "    }\n",
              "\n",
              "    .colab-df-convert {\n",
              "      background-color: #E8F0FE;\n",
              "      border: none;\n",
              "      border-radius: 50%;\n",
              "      cursor: pointer;\n",
              "      display: none;\n",
              "      fill: #1967D2;\n",
              "      height: 32px;\n",
              "      padding: 0 0 0 0;\n",
              "      width: 32px;\n",
              "    }\n",
              "\n",
              "    .colab-df-convert:hover {\n",
              "      background-color: #E2EBFA;\n",
              "      box-shadow: 0px 1px 2px rgba(60, 64, 67, 0.3), 0px 1px 3px 1px rgba(60, 64, 67, 0.15);\n",
              "      fill: #174EA6;\n",
              "    }\n",
              "\n",
              "    [theme=dark] .colab-df-convert {\n",
              "      background-color: #3B4455;\n",
              "      fill: #D2E3FC;\n",
              "    }\n",
              "\n",
              "    [theme=dark] .colab-df-convert:hover {\n",
              "      background-color: #434B5C;\n",
              "      box-shadow: 0px 1px 3px 1px rgba(0, 0, 0, 0.15);\n",
              "      filter: drop-shadow(0px 1px 2px rgba(0, 0, 0, 0.3));\n",
              "      fill: #FFFFFF;\n",
              "    }\n",
              "  </style>\n",
              "\n",
              "      <script>\n",
              "        const buttonEl =\n",
              "          document.querySelector('#df-b37cf1d5-fd66-4ff2-8eaf-700586186203 button.colab-df-convert');\n",
              "        buttonEl.style.display =\n",
              "          google.colab.kernel.accessAllowed ? 'block' : 'none';\n",
              "\n",
              "        async function convertToInteractive(key) {\n",
              "          const element = document.querySelector('#df-b37cf1d5-fd66-4ff2-8eaf-700586186203');\n",
              "          const dataTable =\n",
              "            await google.colab.kernel.invokeFunction('convertToInteractive',\n",
              "                                                     [key], {});\n",
              "          if (!dataTable) return;\n",
              "\n",
              "          const docLinkHtml = 'Like what you see? Visit the ' +\n",
              "            '<a target=\"_blank\" href=https://colab.research.google.com/notebooks/data_table.ipynb>data table notebook</a>'\n",
              "            + ' to learn more about interactive tables.';\n",
              "          element.innerHTML = '';\n",
              "          dataTable['output_type'] = 'display_data';\n",
              "          await google.colab.output.renderOutput(dataTable, element);\n",
              "          const docLink = document.createElement('div');\n",
              "          docLink.innerHTML = docLinkHtml;\n",
              "          element.appendChild(docLink);\n",
              "        }\n",
              "      </script>\n",
              "    </div>\n",
              "  </div>\n",
              "  "
            ]
          },
          "metadata": {},
          "execution_count": 402
        }
      ]
    },
    {
      "cell_type": "code",
      "source": [
        "type(predict_df)"
      ],
      "metadata": {
        "colab": {
          "base_uri": "https://localhost:8080/"
        },
        "id": "YlX-jfIMdIri",
        "outputId": "313cf3a0-3084-4603-ea5f-e8463dd07a2a"
      },
      "execution_count": 403,
      "outputs": [
        {
          "output_type": "execute_result",
          "data": {
            "text/plain": [
              "pandas.core.frame.DataFrame"
            ]
          },
          "metadata": {},
          "execution_count": 403
        }
      ]
    },
    {
      "cell_type": "code",
      "source": [
        "x_pred  = predict_df[\"KEYWORDS\"]\n",
        "\n",
        "type(x_pred)"
      ],
      "metadata": {
        "colab": {
          "base_uri": "https://localhost:8080/"
        },
        "id": "jVvYdPTlQzT-",
        "outputId": "d519d523-e744-43c8-f2e7-dbb2b020e2b4"
      },
      "execution_count": 404,
      "outputs": [
        {
          "output_type": "execute_result",
          "data": {
            "text/plain": [
              "pandas.core.series.Series"
            ]
          },
          "metadata": {},
          "execution_count": 404
        }
      ]
    },
    {
      "cell_type": "code",
      "source": [
        "x_pred_list = []\n",
        "for i in x_pred:\n",
        "    x_pred_list.append(i)"
      ],
      "metadata": {
        "id": "WHJmAfoRQ-aU"
      },
      "execution_count": 405,
      "outputs": []
    },
    {
      "cell_type": "code",
      "source": [
        "tokenizer = Tokenizer(num_words=vocab_size, oov_token=oov_tok)\n",
        "tokenizer.fit_on_texts(x_pred_list)\n",
        "word_index = tokenizer.word_index\n",
        "pred_seq = tokenizer.texts_to_sequences(x_pred_list)\n",
        "pred_padded = pad_sequences(pred_seq, maxlen=max_length, padding=padding_type, truncating=trunc_type)"
      ],
      "metadata": {
        "id": "9s3nq6X8Sm9K"
      },
      "execution_count": 406,
      "outputs": []
    },
    {
      "cell_type": "code",
      "source": [
        "isHCP_pred = model.predict(pred_padded)"
      ],
      "metadata": {
        "colab": {
          "base_uri": "https://localhost:8080/"
        },
        "id": "Va66N1jCSzz2",
        "outputId": "3e25253c-1346-4f9d-87da-a4e904f9309e"
      },
      "execution_count": 407,
      "outputs": [
        {
          "output_type": "stream",
          "name": "stdout",
          "text": [
            "891/891 [==============================] - 2s 2ms/step\n"
          ]
        }
      ]
    },
    {
      "cell_type": "code",
      "source": [
        "len(isHCP_pred)"
      ],
      "metadata": {
        "colab": {
          "base_uri": "https://localhost:8080/"
        },
        "id": "NhQ3CtSgTGKo",
        "outputId": "7542f687-360f-4498-edef-3776f6541ff0"
      },
      "execution_count": 408,
      "outputs": [
        {
          "output_type": "execute_result",
          "data": {
            "text/plain": [
              "28493"
            ]
          },
          "metadata": {},
          "execution_count": 408
        }
      ]
    },
    {
      "cell_type": "code",
      "source": [
        "isHCP_pred[3434]"
      ],
      "metadata": {
        "colab": {
          "base_uri": "https://localhost:8080/"
        },
        "id": "W7GXiFrLUMx7",
        "outputId": "ed595032-7a20-486c-d4dc-6e74f1d5589f"
      },
      "execution_count": 409,
      "outputs": [
        {
          "output_type": "execute_result",
          "data": {
            "text/plain": [
              "array([3.5686792e-08], dtype=float32)"
            ]
          },
          "metadata": {},
          "execution_count": 409
        }
      ]
    },
    {
      "cell_type": "code",
      "source": [
        "for i in range(len(isHCP_pred)):\n",
        "      isHCP_pred[i] = int(isHCP_pred[i])\n",
        ""
      ],
      "metadata": {
        "id": "xvrDWVQxTKaj"
      },
      "execution_count": 410,
      "outputs": []
    },
    {
      "cell_type": "code",
      "source": [
        "sol_df = predict_df[[\"ID\",\"KEYWORDS\"]]\n",
        "type(sol_df)"
      ],
      "metadata": {
        "colab": {
          "base_uri": "https://localhost:8080/"
        },
        "id": "pY7TFsuNdbpA",
        "outputId": "5e1e7d5d-85b5-46b9-aa41-ce3969c16947"
      },
      "execution_count": 411,
      "outputs": [
        {
          "output_type": "execute_result",
          "data": {
            "text/plain": [
              "pandas.core.frame.DataFrame"
            ]
          },
          "metadata": {},
          "execution_count": 411
        }
      ]
    },
    {
      "cell_type": "code",
      "source": [
        "sol_df.head()"
      ],
      "metadata": {
        "colab": {
          "base_uri": "https://localhost:8080/",
          "height": 206
        },
        "id": "iKO3dUyMeQx2",
        "outputId": "635c5a20-a580-48ce-dcb2-75577650f81b"
      },
      "execution_count": 412,
      "outputs": [
        {
          "output_type": "execute_result",
          "data": {
            "text/plain": [
              "       ID                                           KEYWORDS\n",
              "0  115501  Family Practice|Drainage|Clinical|Dermatology|...\n",
              "1  115502  General|Clinical|Operative|Medicine|Cardiology...\n",
              "2  115503  Abortion|Anxiety Disorders|Apnea|False|Trauma|...\n",
              "3  115504  Health|Male|Neurological Surgery|Otolaryngolog...\n",
              "4  115505  chronic kidney disease|pain|nephrology|disease..."
            ],
            "text/html": [
              "\n",
              "  <div id=\"df-77b4ff28-4041-4ed4-bdef-b0013b0429ec\">\n",
              "    <div class=\"colab-df-container\">\n",
              "      <div>\n",
              "<style scoped>\n",
              "    .dataframe tbody tr th:only-of-type {\n",
              "        vertical-align: middle;\n",
              "    }\n",
              "\n",
              "    .dataframe tbody tr th {\n",
              "        vertical-align: top;\n",
              "    }\n",
              "\n",
              "    .dataframe thead th {\n",
              "        text-align: right;\n",
              "    }\n",
              "</style>\n",
              "<table border=\"1\" class=\"dataframe\">\n",
              "  <thead>\n",
              "    <tr style=\"text-align: right;\">\n",
              "      <th></th>\n",
              "      <th>ID</th>\n",
              "      <th>KEYWORDS</th>\n",
              "    </tr>\n",
              "  </thead>\n",
              "  <tbody>\n",
              "    <tr>\n",
              "      <th>0</th>\n",
              "      <td>115501</td>\n",
              "      <td>Family Practice|Drainage|Clinical|Dermatology|...</td>\n",
              "    </tr>\n",
              "    <tr>\n",
              "      <th>1</th>\n",
              "      <td>115502</td>\n",
              "      <td>General|Clinical|Operative|Medicine|Cardiology...</td>\n",
              "    </tr>\n",
              "    <tr>\n",
              "      <th>2</th>\n",
              "      <td>115503</td>\n",
              "      <td>Abortion|Anxiety Disorders|Apnea|False|Trauma|...</td>\n",
              "    </tr>\n",
              "    <tr>\n",
              "      <th>3</th>\n",
              "      <td>115504</td>\n",
              "      <td>Health|Male|Neurological Surgery|Otolaryngolog...</td>\n",
              "    </tr>\n",
              "    <tr>\n",
              "      <th>4</th>\n",
              "      <td>115505</td>\n",
              "      <td>chronic kidney disease|pain|nephrology|disease...</td>\n",
              "    </tr>\n",
              "  </tbody>\n",
              "</table>\n",
              "</div>\n",
              "      <button class=\"colab-df-convert\" onclick=\"convertToInteractive('df-77b4ff28-4041-4ed4-bdef-b0013b0429ec')\"\n",
              "              title=\"Convert this dataframe to an interactive table.\"\n",
              "              style=\"display:none;\">\n",
              "        \n",
              "  <svg xmlns=\"http://www.w3.org/2000/svg\" height=\"24px\"viewBox=\"0 0 24 24\"\n",
              "       width=\"24px\">\n",
              "    <path d=\"M0 0h24v24H0V0z\" fill=\"none\"/>\n",
              "    <path d=\"M18.56 5.44l.94 2.06.94-2.06 2.06-.94-2.06-.94-.94-2.06-.94 2.06-2.06.94zm-11 1L8.5 8.5l.94-2.06 2.06-.94-2.06-.94L8.5 2.5l-.94 2.06-2.06.94zm10 10l.94 2.06.94-2.06 2.06-.94-2.06-.94-.94-2.06-.94 2.06-2.06.94z\"/><path d=\"M17.41 7.96l-1.37-1.37c-.4-.4-.92-.59-1.43-.59-.52 0-1.04.2-1.43.59L10.3 9.45l-7.72 7.72c-.78.78-.78 2.05 0 2.83L4 21.41c.39.39.9.59 1.41.59.51 0 1.02-.2 1.41-.59l7.78-7.78 2.81-2.81c.8-.78.8-2.07 0-2.86zM5.41 20L4 18.59l7.72-7.72 1.47 1.35L5.41 20z\"/>\n",
              "  </svg>\n",
              "      </button>\n",
              "      \n",
              "  <style>\n",
              "    .colab-df-container {\n",
              "      display:flex;\n",
              "      flex-wrap:wrap;\n",
              "      gap: 12px;\n",
              "    }\n",
              "\n",
              "    .colab-df-convert {\n",
              "      background-color: #E8F0FE;\n",
              "      border: none;\n",
              "      border-radius: 50%;\n",
              "      cursor: pointer;\n",
              "      display: none;\n",
              "      fill: #1967D2;\n",
              "      height: 32px;\n",
              "      padding: 0 0 0 0;\n",
              "      width: 32px;\n",
              "    }\n",
              "\n",
              "    .colab-df-convert:hover {\n",
              "      background-color: #E2EBFA;\n",
              "      box-shadow: 0px 1px 2px rgba(60, 64, 67, 0.3), 0px 1px 3px 1px rgba(60, 64, 67, 0.15);\n",
              "      fill: #174EA6;\n",
              "    }\n",
              "\n",
              "    [theme=dark] .colab-df-convert {\n",
              "      background-color: #3B4455;\n",
              "      fill: #D2E3FC;\n",
              "    }\n",
              "\n",
              "    [theme=dark] .colab-df-convert:hover {\n",
              "      background-color: #434B5C;\n",
              "      box-shadow: 0px 1px 3px 1px rgba(0, 0, 0, 0.15);\n",
              "      filter: drop-shadow(0px 1px 2px rgba(0, 0, 0, 0.3));\n",
              "      fill: #FFFFFF;\n",
              "    }\n",
              "  </style>\n",
              "\n",
              "      <script>\n",
              "        const buttonEl =\n",
              "          document.querySelector('#df-77b4ff28-4041-4ed4-bdef-b0013b0429ec button.colab-df-convert');\n",
              "        buttonEl.style.display =\n",
              "          google.colab.kernel.accessAllowed ? 'block' : 'none';\n",
              "\n",
              "        async function convertToInteractive(key) {\n",
              "          const element = document.querySelector('#df-77b4ff28-4041-4ed4-bdef-b0013b0429ec');\n",
              "          const dataTable =\n",
              "            await google.colab.kernel.invokeFunction('convertToInteractive',\n",
              "                                                     [key], {});\n",
              "          if (!dataTable) return;\n",
              "\n",
              "          const docLinkHtml = 'Like what you see? Visit the ' +\n",
              "            '<a target=\"_blank\" href=https://colab.research.google.com/notebooks/data_table.ipynb>data table notebook</a>'\n",
              "            + ' to learn more about interactive tables.';\n",
              "          element.innerHTML = '';\n",
              "          dataTable['output_type'] = 'display_data';\n",
              "          await google.colab.output.renderOutput(dataTable, element);\n",
              "          const docLink = document.createElement('div');\n",
              "          docLink.innerHTML = docLinkHtml;\n",
              "          element.appendChild(docLink);\n",
              "        }\n",
              "      </script>\n",
              "    </div>\n",
              "  </div>\n",
              "  "
            ]
          },
          "metadata": {},
          "execution_count": 412
        }
      ]
    },
    {
      "cell_type": "code",
      "source": [
        "sol_df.insert(loc=2, column='IS_HCF', value = isHCP_pred)"
      ],
      "metadata": {
        "id": "5x7cZh5cdkh-"
      },
      "execution_count": 413,
      "outputs": []
    },
    {
      "cell_type": "code",
      "source": [
        "sol_df.head()"
      ],
      "metadata": {
        "colab": {
          "base_uri": "https://localhost:8080/",
          "height": 206
        },
        "id": "Cm24MEeeevMg",
        "outputId": "acfc2ec3-a54b-4575-bb69-63987a622ef8"
      },
      "execution_count": 414,
      "outputs": [
        {
          "output_type": "execute_result",
          "data": {
            "text/plain": [
              "       ID                                           KEYWORDS  IS_HCF\n",
              "0  115501  Family Practice|Drainage|Clinical|Dermatology|...     0.0\n",
              "1  115502  General|Clinical|Operative|Medicine|Cardiology...     0.0\n",
              "2  115503  Abortion|Anxiety Disorders|Apnea|False|Trauma|...     0.0\n",
              "3  115504  Health|Male|Neurological Surgery|Otolaryngolog...     0.0\n",
              "4  115505  chronic kidney disease|pain|nephrology|disease...     0.0"
            ],
            "text/html": [
              "\n",
              "  <div id=\"df-223bc71f-b27c-4478-a530-0df842c64d03\">\n",
              "    <div class=\"colab-df-container\">\n",
              "      <div>\n",
              "<style scoped>\n",
              "    .dataframe tbody tr th:only-of-type {\n",
              "        vertical-align: middle;\n",
              "    }\n",
              "\n",
              "    .dataframe tbody tr th {\n",
              "        vertical-align: top;\n",
              "    }\n",
              "\n",
              "    .dataframe thead th {\n",
              "        text-align: right;\n",
              "    }\n",
              "</style>\n",
              "<table border=\"1\" class=\"dataframe\">\n",
              "  <thead>\n",
              "    <tr style=\"text-align: right;\">\n",
              "      <th></th>\n",
              "      <th>ID</th>\n",
              "      <th>KEYWORDS</th>\n",
              "      <th>IS_HCF</th>\n",
              "    </tr>\n",
              "  </thead>\n",
              "  <tbody>\n",
              "    <tr>\n",
              "      <th>0</th>\n",
              "      <td>115501</td>\n",
              "      <td>Family Practice|Drainage|Clinical|Dermatology|...</td>\n",
              "      <td>0.0</td>\n",
              "    </tr>\n",
              "    <tr>\n",
              "      <th>1</th>\n",
              "      <td>115502</td>\n",
              "      <td>General|Clinical|Operative|Medicine|Cardiology...</td>\n",
              "      <td>0.0</td>\n",
              "    </tr>\n",
              "    <tr>\n",
              "      <th>2</th>\n",
              "      <td>115503</td>\n",
              "      <td>Abortion|Anxiety Disorders|Apnea|False|Trauma|...</td>\n",
              "      <td>0.0</td>\n",
              "    </tr>\n",
              "    <tr>\n",
              "      <th>3</th>\n",
              "      <td>115504</td>\n",
              "      <td>Health|Male|Neurological Surgery|Otolaryngolog...</td>\n",
              "      <td>0.0</td>\n",
              "    </tr>\n",
              "    <tr>\n",
              "      <th>4</th>\n",
              "      <td>115505</td>\n",
              "      <td>chronic kidney disease|pain|nephrology|disease...</td>\n",
              "      <td>0.0</td>\n",
              "    </tr>\n",
              "  </tbody>\n",
              "</table>\n",
              "</div>\n",
              "      <button class=\"colab-df-convert\" onclick=\"convertToInteractive('df-223bc71f-b27c-4478-a530-0df842c64d03')\"\n",
              "              title=\"Convert this dataframe to an interactive table.\"\n",
              "              style=\"display:none;\">\n",
              "        \n",
              "  <svg xmlns=\"http://www.w3.org/2000/svg\" height=\"24px\"viewBox=\"0 0 24 24\"\n",
              "       width=\"24px\">\n",
              "    <path d=\"M0 0h24v24H0V0z\" fill=\"none\"/>\n",
              "    <path d=\"M18.56 5.44l.94 2.06.94-2.06 2.06-.94-2.06-.94-.94-2.06-.94 2.06-2.06.94zm-11 1L8.5 8.5l.94-2.06 2.06-.94-2.06-.94L8.5 2.5l-.94 2.06-2.06.94zm10 10l.94 2.06.94-2.06 2.06-.94-2.06-.94-.94-2.06-.94 2.06-2.06.94z\"/><path d=\"M17.41 7.96l-1.37-1.37c-.4-.4-.92-.59-1.43-.59-.52 0-1.04.2-1.43.59L10.3 9.45l-7.72 7.72c-.78.78-.78 2.05 0 2.83L4 21.41c.39.39.9.59 1.41.59.51 0 1.02-.2 1.41-.59l7.78-7.78 2.81-2.81c.8-.78.8-2.07 0-2.86zM5.41 20L4 18.59l7.72-7.72 1.47 1.35L5.41 20z\"/>\n",
              "  </svg>\n",
              "      </button>\n",
              "      \n",
              "  <style>\n",
              "    .colab-df-container {\n",
              "      display:flex;\n",
              "      flex-wrap:wrap;\n",
              "      gap: 12px;\n",
              "    }\n",
              "\n",
              "    .colab-df-convert {\n",
              "      background-color: #E8F0FE;\n",
              "      border: none;\n",
              "      border-radius: 50%;\n",
              "      cursor: pointer;\n",
              "      display: none;\n",
              "      fill: #1967D2;\n",
              "      height: 32px;\n",
              "      padding: 0 0 0 0;\n",
              "      width: 32px;\n",
              "    }\n",
              "\n",
              "    .colab-df-convert:hover {\n",
              "      background-color: #E2EBFA;\n",
              "      box-shadow: 0px 1px 2px rgba(60, 64, 67, 0.3), 0px 1px 3px 1px rgba(60, 64, 67, 0.15);\n",
              "      fill: #174EA6;\n",
              "    }\n",
              "\n",
              "    [theme=dark] .colab-df-convert {\n",
              "      background-color: #3B4455;\n",
              "      fill: #D2E3FC;\n",
              "    }\n",
              "\n",
              "    [theme=dark] .colab-df-convert:hover {\n",
              "      background-color: #434B5C;\n",
              "      box-shadow: 0px 1px 3px 1px rgba(0, 0, 0, 0.15);\n",
              "      filter: drop-shadow(0px 1px 2px rgba(0, 0, 0, 0.3));\n",
              "      fill: #FFFFFF;\n",
              "    }\n",
              "  </style>\n",
              "\n",
              "      <script>\n",
              "        const buttonEl =\n",
              "          document.querySelector('#df-223bc71f-b27c-4478-a530-0df842c64d03 button.colab-df-convert');\n",
              "        buttonEl.style.display =\n",
              "          google.colab.kernel.accessAllowed ? 'block' : 'none';\n",
              "\n",
              "        async function convertToInteractive(key) {\n",
              "          const element = document.querySelector('#df-223bc71f-b27c-4478-a530-0df842c64d03');\n",
              "          const dataTable =\n",
              "            await google.colab.kernel.invokeFunction('convertToInteractive',\n",
              "                                                     [key], {});\n",
              "          if (!dataTable) return;\n",
              "\n",
              "          const docLinkHtml = 'Like what you see? Visit the ' +\n",
              "            '<a target=\"_blank\" href=https://colab.research.google.com/notebooks/data_table.ipynb>data table notebook</a>'\n",
              "            + ' to learn more about interactive tables.';\n",
              "          element.innerHTML = '';\n",
              "          dataTable['output_type'] = 'display_data';\n",
              "          await google.colab.output.renderOutput(dataTable, element);\n",
              "          const docLink = document.createElement('div');\n",
              "          docLink.innerHTML = docLinkHtml;\n",
              "          element.appendChild(docLink);\n",
              "        }\n",
              "      </script>\n",
              "    </div>\n",
              "  </div>\n",
              "  "
            ]
          },
          "metadata": {},
          "execution_count": 414
        }
      ]
    },
    {
      "cell_type": "code",
      "source": [
        "ones_df = sol_df[sol_df['IS_HCF'] == 1]\n",
        "zeros_df = sol_df[sol_df['IS_HCF'] == 0]"
      ],
      "metadata": {
        "id": "O4GJenf-fIE_"
      },
      "execution_count": 415,
      "outputs": []
    },
    {
      "cell_type": "code",
      "source": [
        "ones_df.head()"
      ],
      "metadata": {
        "colab": {
          "base_uri": "https://localhost:8080/",
          "height": 206
        },
        "id": "yDqUZOStfRUp",
        "outputId": "e6967e65-64a4-4c0d-9446-8cce293bdaef"
      },
      "execution_count": 416,
      "outputs": [
        {
          "output_type": "execute_result",
          "data": {
            "text/plain": [
              "        ID                                           KEYWORDS  IS_HCF\n",
              "31  115532  Anemia|Delivery|Oncology|Medicine|Diabetes Mel...     1.0\n",
              "49  115550  Surgical|Pathology|Heart Failure|Physicians|Sp...     1.0\n",
              "62  115563  Surgical|Pathology|Heart Failure|Physicians|Sp...     1.0\n",
              "65  115566  Clinical|Pediatrics|Rheumatology|Urology|Child...     1.0\n",
              "75  115576  Pharmacology|Delivery|Medicine|Hospitals|Aged|...     1.0"
            ],
            "text/html": [
              "\n",
              "  <div id=\"df-5060f32d-e1cd-46d4-aa2d-5cb39c454972\">\n",
              "    <div class=\"colab-df-container\">\n",
              "      <div>\n",
              "<style scoped>\n",
              "    .dataframe tbody tr th:only-of-type {\n",
              "        vertical-align: middle;\n",
              "    }\n",
              "\n",
              "    .dataframe tbody tr th {\n",
              "        vertical-align: top;\n",
              "    }\n",
              "\n",
              "    .dataframe thead th {\n",
              "        text-align: right;\n",
              "    }\n",
              "</style>\n",
              "<table border=\"1\" class=\"dataframe\">\n",
              "  <thead>\n",
              "    <tr style=\"text-align: right;\">\n",
              "      <th></th>\n",
              "      <th>ID</th>\n",
              "      <th>KEYWORDS</th>\n",
              "      <th>IS_HCF</th>\n",
              "    </tr>\n",
              "  </thead>\n",
              "  <tbody>\n",
              "    <tr>\n",
              "      <th>31</th>\n",
              "      <td>115532</td>\n",
              "      <td>Anemia|Delivery|Oncology|Medicine|Diabetes Mel...</td>\n",
              "      <td>1.0</td>\n",
              "    </tr>\n",
              "    <tr>\n",
              "      <th>49</th>\n",
              "      <td>115550</td>\n",
              "      <td>Surgical|Pathology|Heart Failure|Physicians|Sp...</td>\n",
              "      <td>1.0</td>\n",
              "    </tr>\n",
              "    <tr>\n",
              "      <th>62</th>\n",
              "      <td>115563</td>\n",
              "      <td>Surgical|Pathology|Heart Failure|Physicians|Sp...</td>\n",
              "      <td>1.0</td>\n",
              "    </tr>\n",
              "    <tr>\n",
              "      <th>65</th>\n",
              "      <td>115566</td>\n",
              "      <td>Clinical|Pediatrics|Rheumatology|Urology|Child...</td>\n",
              "      <td>1.0</td>\n",
              "    </tr>\n",
              "    <tr>\n",
              "      <th>75</th>\n",
              "      <td>115576</td>\n",
              "      <td>Pharmacology|Delivery|Medicine|Hospitals|Aged|...</td>\n",
              "      <td>1.0</td>\n",
              "    </tr>\n",
              "  </tbody>\n",
              "</table>\n",
              "</div>\n",
              "      <button class=\"colab-df-convert\" onclick=\"convertToInteractive('df-5060f32d-e1cd-46d4-aa2d-5cb39c454972')\"\n",
              "              title=\"Convert this dataframe to an interactive table.\"\n",
              "              style=\"display:none;\">\n",
              "        \n",
              "  <svg xmlns=\"http://www.w3.org/2000/svg\" height=\"24px\"viewBox=\"0 0 24 24\"\n",
              "       width=\"24px\">\n",
              "    <path d=\"M0 0h24v24H0V0z\" fill=\"none\"/>\n",
              "    <path d=\"M18.56 5.44l.94 2.06.94-2.06 2.06-.94-2.06-.94-.94-2.06-.94 2.06-2.06.94zm-11 1L8.5 8.5l.94-2.06 2.06-.94-2.06-.94L8.5 2.5l-.94 2.06-2.06.94zm10 10l.94 2.06.94-2.06 2.06-.94-2.06-.94-.94-2.06-.94 2.06-2.06.94z\"/><path d=\"M17.41 7.96l-1.37-1.37c-.4-.4-.92-.59-1.43-.59-.52 0-1.04.2-1.43.59L10.3 9.45l-7.72 7.72c-.78.78-.78 2.05 0 2.83L4 21.41c.39.39.9.59 1.41.59.51 0 1.02-.2 1.41-.59l7.78-7.78 2.81-2.81c.8-.78.8-2.07 0-2.86zM5.41 20L4 18.59l7.72-7.72 1.47 1.35L5.41 20z\"/>\n",
              "  </svg>\n",
              "      </button>\n",
              "      \n",
              "  <style>\n",
              "    .colab-df-container {\n",
              "      display:flex;\n",
              "      flex-wrap:wrap;\n",
              "      gap: 12px;\n",
              "    }\n",
              "\n",
              "    .colab-df-convert {\n",
              "      background-color: #E8F0FE;\n",
              "      border: none;\n",
              "      border-radius: 50%;\n",
              "      cursor: pointer;\n",
              "      display: none;\n",
              "      fill: #1967D2;\n",
              "      height: 32px;\n",
              "      padding: 0 0 0 0;\n",
              "      width: 32px;\n",
              "    }\n",
              "\n",
              "    .colab-df-convert:hover {\n",
              "      background-color: #E2EBFA;\n",
              "      box-shadow: 0px 1px 2px rgba(60, 64, 67, 0.3), 0px 1px 3px 1px rgba(60, 64, 67, 0.15);\n",
              "      fill: #174EA6;\n",
              "    }\n",
              "\n",
              "    [theme=dark] .colab-df-convert {\n",
              "      background-color: #3B4455;\n",
              "      fill: #D2E3FC;\n",
              "    }\n",
              "\n",
              "    [theme=dark] .colab-df-convert:hover {\n",
              "      background-color: #434B5C;\n",
              "      box-shadow: 0px 1px 3px 1px rgba(0, 0, 0, 0.15);\n",
              "      filter: drop-shadow(0px 1px 2px rgba(0, 0, 0, 0.3));\n",
              "      fill: #FFFFFF;\n",
              "    }\n",
              "  </style>\n",
              "\n",
              "      <script>\n",
              "        const buttonEl =\n",
              "          document.querySelector('#df-5060f32d-e1cd-46d4-aa2d-5cb39c454972 button.colab-df-convert');\n",
              "        buttonEl.style.display =\n",
              "          google.colab.kernel.accessAllowed ? 'block' : 'none';\n",
              "\n",
              "        async function convertToInteractive(key) {\n",
              "          const element = document.querySelector('#df-5060f32d-e1cd-46d4-aa2d-5cb39c454972');\n",
              "          const dataTable =\n",
              "            await google.colab.kernel.invokeFunction('convertToInteractive',\n",
              "                                                     [key], {});\n",
              "          if (!dataTable) return;\n",
              "\n",
              "          const docLinkHtml = 'Like what you see? Visit the ' +\n",
              "            '<a target=\"_blank\" href=https://colab.research.google.com/notebooks/data_table.ipynb>data table notebook</a>'\n",
              "            + ' to learn more about interactive tables.';\n",
              "          element.innerHTML = '';\n",
              "          dataTable['output_type'] = 'display_data';\n",
              "          await google.colab.output.renderOutput(dataTable, element);\n",
              "          const docLink = document.createElement('div');\n",
              "          docLink.innerHTML = docLinkHtml;\n",
              "          element.appendChild(docLink);\n",
              "        }\n",
              "      </script>\n",
              "    </div>\n",
              "  </div>\n",
              "  "
            ]
          },
          "metadata": {},
          "execution_count": 416
        }
      ]
    },
    {
      "cell_type": "code",
      "source": [
        "ones_df.shape"
      ],
      "metadata": {
        "colab": {
          "base_uri": "https://localhost:8080/"
        },
        "id": "fuAFuGIefXIs",
        "outputId": "fab3c0d2-9b49-4261-b66b-dc6e3e14a7b6"
      },
      "execution_count": 417,
      "outputs": [
        {
          "output_type": "execute_result",
          "data": {
            "text/plain": [
              "(2715, 3)"
            ]
          },
          "metadata": {},
          "execution_count": 417
        }
      ]
    },
    {
      "cell_type": "code",
      "source": [
        "x_pred_taxo = ones_df['KEYWORDS']"
      ],
      "metadata": {
        "id": "AlQ59GlnUirV"
      },
      "execution_count": 418,
      "outputs": []
    },
    {
      "cell_type": "code",
      "source": [
        "x_pred_taxo_list = []\n",
        "for i in x_pred_taxo:\n",
        "      x_pred_taxo_list.append(i.lower())"
      ],
      "metadata": {
        "id": "l2YY9r6DgBLO"
      },
      "execution_count": 419,
      "outputs": []
    },
    {
      "cell_type": "code",
      "source": [
        "tokenizer = Tokenizer(num_words=vocab_size, oov_token=oov_tok)\n",
        "tokenizer.fit_on_texts(x_pred_taxo_list)\n",
        "word_index = tokenizer.word_index\n",
        "x_pred_taxo_seq = tokenizer.texts_to_sequences(x_pred_taxo_list)\n",
        "x_pred_taxo_padded = pad_sequences(x_pred_taxo_seq, maxlen=max_length, padding=padding_type, truncating=trunc_type)"
      ],
      "metadata": {
        "id": "2mbhjLnNgMSu"
      },
      "execution_count": 420,
      "outputs": []
    },
    {
      "cell_type": "code",
      "source": [
        "y_taxo_pred = model_taxo.predict(x_pred_taxo_padded)"
      ],
      "metadata": {
        "id": "Pk5Bc8LagMcE"
      },
      "execution_count": 421,
      "outputs": []
    },
    {
      "cell_type": "code",
      "source": [
        "type(y_taxo_pred)"
      ],
      "metadata": {
        "colab": {
          "base_uri": "https://localhost:8080/"
        },
        "id": "oXpqiymxhG2i",
        "outputId": "342453c0-136e-4552-b32e-1c3cb341b60c"
      },
      "execution_count": 422,
      "outputs": [
        {
          "output_type": "execute_result",
          "data": {
            "text/plain": [
              "numpy.ndarray"
            ]
          },
          "metadata": {},
          "execution_count": 422
        }
      ]
    },
    {
      "cell_type": "code",
      "source": [
        "for i in range(len(y_taxo_pred)):\n",
        "    y_taxo_pred[i] = round(y_taxo_pred[i])"
      ],
      "metadata": {
        "id": "CjdWJONXhUs7"
      },
      "execution_count": 423,
      "outputs": []
    },
    {
      "cell_type": "code",
      "source": [
        "reversed_taxo_index = {value: key for key, value in taxo_index.items()}\n",
        "reversed_taxo_index [1]"
      ],
      "metadata": {
        "colab": {
          "base_uri": "https://localhost:8080/",
          "height": 35
        },
        "id": "NKiNectZh7W4",
        "outputId": "eb8cf6a1-c06a-4761-ce68-98e343b4cdca"
      },
      "execution_count": 424,
      "outputs": [
        {
          "output_type": "execute_result",
          "data": {
            "text/plain": [
              "'2084p0800x'"
            ],
            "application/vnd.google.colaboratory.intrinsic+json": {
              "type": "string"
            }
          },
          "metadata": {},
          "execution_count": 424
        }
      ]
    },
    {
      "cell_type": "code",
      "source": [
        "taxo = []\n",
        "for i in y_taxo_pred:\n",
        "    taxo.append(reversed_taxo_index[i].upper())"
      ],
      "metadata": {
        "id": "aM4bPvKzhlNG"
      },
      "execution_count": 425,
      "outputs": []
    },
    {
      "cell_type": "code",
      "source": [
        "ones_df.shape"
      ],
      "metadata": {
        "colab": {
          "base_uri": "https://localhost:8080/"
        },
        "id": "nNzYbd58UolQ",
        "outputId": "58413f8a-aba5-4563-8bb2-af5676404511"
      },
      "execution_count": 426,
      "outputs": [
        {
          "output_type": "execute_result",
          "data": {
            "text/plain": [
              "(2715, 3)"
            ]
          },
          "metadata": {},
          "execution_count": 426
        }
      ]
    },
    {
      "cell_type": "code",
      "source": [
        "ones_df.insert(loc=2, column='TAXONOMY', value = taxo)"
      ],
      "metadata": {
        "id": "HiudH_R4WYJY"
      },
      "execution_count": 427,
      "outputs": []
    },
    {
      "cell_type": "code",
      "source": [
        "ones_df.head()"
      ],
      "metadata": {
        "colab": {
          "base_uri": "https://localhost:8080/",
          "height": 206
        },
        "id": "68g0bNBfiSLg",
        "outputId": "3793d6a1-33d3-45d8-e9b2-db595675c877"
      },
      "execution_count": 428,
      "outputs": [
        {
          "output_type": "execute_result",
          "data": {
            "text/plain": [
              "        ID                                           KEYWORDS    TAXONOMY  \\\n",
              "31  115532  Anemia|Delivery|Oncology|Medicine|Diabetes Mel...  204C00000X   \n",
              "49  115550  Surgical|Pathology|Heart Failure|Physicians|Sp...  2080P0207X   \n",
              "62  115563  Surgical|Pathology|Heart Failure|Physicians|Sp...  2080P0207X   \n",
              "65  115566  Clinical|Pediatrics|Rheumatology|Urology|Child...  208000000X   \n",
              "75  115576  Pharmacology|Delivery|Medicine|Hospitals|Aged|...  2080P0202X   \n",
              "\n",
              "    IS_HCF  \n",
              "31     1.0  \n",
              "49     1.0  \n",
              "62     1.0  \n",
              "65     1.0  \n",
              "75     1.0  "
            ],
            "text/html": [
              "\n",
              "  <div id=\"df-bec3181c-02c4-4f08-b065-fd6971b54500\">\n",
              "    <div class=\"colab-df-container\">\n",
              "      <div>\n",
              "<style scoped>\n",
              "    .dataframe tbody tr th:only-of-type {\n",
              "        vertical-align: middle;\n",
              "    }\n",
              "\n",
              "    .dataframe tbody tr th {\n",
              "        vertical-align: top;\n",
              "    }\n",
              "\n",
              "    .dataframe thead th {\n",
              "        text-align: right;\n",
              "    }\n",
              "</style>\n",
              "<table border=\"1\" class=\"dataframe\">\n",
              "  <thead>\n",
              "    <tr style=\"text-align: right;\">\n",
              "      <th></th>\n",
              "      <th>ID</th>\n",
              "      <th>KEYWORDS</th>\n",
              "      <th>TAXONOMY</th>\n",
              "      <th>IS_HCF</th>\n",
              "    </tr>\n",
              "  </thead>\n",
              "  <tbody>\n",
              "    <tr>\n",
              "      <th>31</th>\n",
              "      <td>115532</td>\n",
              "      <td>Anemia|Delivery|Oncology|Medicine|Diabetes Mel...</td>\n",
              "      <td>204C00000X</td>\n",
              "      <td>1.0</td>\n",
              "    </tr>\n",
              "    <tr>\n",
              "      <th>49</th>\n",
              "      <td>115550</td>\n",
              "      <td>Surgical|Pathology|Heart Failure|Physicians|Sp...</td>\n",
              "      <td>2080P0207X</td>\n",
              "      <td>1.0</td>\n",
              "    </tr>\n",
              "    <tr>\n",
              "      <th>62</th>\n",
              "      <td>115563</td>\n",
              "      <td>Surgical|Pathology|Heart Failure|Physicians|Sp...</td>\n",
              "      <td>2080P0207X</td>\n",
              "      <td>1.0</td>\n",
              "    </tr>\n",
              "    <tr>\n",
              "      <th>65</th>\n",
              "      <td>115566</td>\n",
              "      <td>Clinical|Pediatrics|Rheumatology|Urology|Child...</td>\n",
              "      <td>208000000X</td>\n",
              "      <td>1.0</td>\n",
              "    </tr>\n",
              "    <tr>\n",
              "      <th>75</th>\n",
              "      <td>115576</td>\n",
              "      <td>Pharmacology|Delivery|Medicine|Hospitals|Aged|...</td>\n",
              "      <td>2080P0202X</td>\n",
              "      <td>1.0</td>\n",
              "    </tr>\n",
              "  </tbody>\n",
              "</table>\n",
              "</div>\n",
              "      <button class=\"colab-df-convert\" onclick=\"convertToInteractive('df-bec3181c-02c4-4f08-b065-fd6971b54500')\"\n",
              "              title=\"Convert this dataframe to an interactive table.\"\n",
              "              style=\"display:none;\">\n",
              "        \n",
              "  <svg xmlns=\"http://www.w3.org/2000/svg\" height=\"24px\"viewBox=\"0 0 24 24\"\n",
              "       width=\"24px\">\n",
              "    <path d=\"M0 0h24v24H0V0z\" fill=\"none\"/>\n",
              "    <path d=\"M18.56 5.44l.94 2.06.94-2.06 2.06-.94-2.06-.94-.94-2.06-.94 2.06-2.06.94zm-11 1L8.5 8.5l.94-2.06 2.06-.94-2.06-.94L8.5 2.5l-.94 2.06-2.06.94zm10 10l.94 2.06.94-2.06 2.06-.94-2.06-.94-.94-2.06-.94 2.06-2.06.94z\"/><path d=\"M17.41 7.96l-1.37-1.37c-.4-.4-.92-.59-1.43-.59-.52 0-1.04.2-1.43.59L10.3 9.45l-7.72 7.72c-.78.78-.78 2.05 0 2.83L4 21.41c.39.39.9.59 1.41.59.51 0 1.02-.2 1.41-.59l7.78-7.78 2.81-2.81c.8-.78.8-2.07 0-2.86zM5.41 20L4 18.59l7.72-7.72 1.47 1.35L5.41 20z\"/>\n",
              "  </svg>\n",
              "      </button>\n",
              "      \n",
              "  <style>\n",
              "    .colab-df-container {\n",
              "      display:flex;\n",
              "      flex-wrap:wrap;\n",
              "      gap: 12px;\n",
              "    }\n",
              "\n",
              "    .colab-df-convert {\n",
              "      background-color: #E8F0FE;\n",
              "      border: none;\n",
              "      border-radius: 50%;\n",
              "      cursor: pointer;\n",
              "      display: none;\n",
              "      fill: #1967D2;\n",
              "      height: 32px;\n",
              "      padding: 0 0 0 0;\n",
              "      width: 32px;\n",
              "    }\n",
              "\n",
              "    .colab-df-convert:hover {\n",
              "      background-color: #E2EBFA;\n",
              "      box-shadow: 0px 1px 2px rgba(60, 64, 67, 0.3), 0px 1px 3px 1px rgba(60, 64, 67, 0.15);\n",
              "      fill: #174EA6;\n",
              "    }\n",
              "\n",
              "    [theme=dark] .colab-df-convert {\n",
              "      background-color: #3B4455;\n",
              "      fill: #D2E3FC;\n",
              "    }\n",
              "\n",
              "    [theme=dark] .colab-df-convert:hover {\n",
              "      background-color: #434B5C;\n",
              "      box-shadow: 0px 1px 3px 1px rgba(0, 0, 0, 0.15);\n",
              "      filter: drop-shadow(0px 1px 2px rgba(0, 0, 0, 0.3));\n",
              "      fill: #FFFFFF;\n",
              "    }\n",
              "  </style>\n",
              "\n",
              "      <script>\n",
              "        const buttonEl =\n",
              "          document.querySelector('#df-bec3181c-02c4-4f08-b065-fd6971b54500 button.colab-df-convert');\n",
              "        buttonEl.style.display =\n",
              "          google.colab.kernel.accessAllowed ? 'block' : 'none';\n",
              "\n",
              "        async function convertToInteractive(key) {\n",
              "          const element = document.querySelector('#df-bec3181c-02c4-4f08-b065-fd6971b54500');\n",
              "          const dataTable =\n",
              "            await google.colab.kernel.invokeFunction('convertToInteractive',\n",
              "                                                     [key], {});\n",
              "          if (!dataTable) return;\n",
              "\n",
              "          const docLinkHtml = 'Like what you see? Visit the ' +\n",
              "            '<a target=\"_blank\" href=https://colab.research.google.com/notebooks/data_table.ipynb>data table notebook</a>'\n",
              "            + ' to learn more about interactive tables.';\n",
              "          element.innerHTML = '';\n",
              "          dataTable['output_type'] = 'display_data';\n",
              "          await google.colab.output.renderOutput(dataTable, element);\n",
              "          const docLink = document.createElement('div');\n",
              "          docLink.innerHTML = docLinkHtml;\n",
              "          element.appendChild(docLink);\n",
              "        }\n",
              "      </script>\n",
              "    </div>\n",
              "  </div>\n",
              "  "
            ]
          },
          "metadata": {},
          "execution_count": 428
        }
      ]
    },
    {
      "cell_type": "code",
      "source": [
        "zeros_df.head()"
      ],
      "metadata": {
        "colab": {
          "base_uri": "https://localhost:8080/",
          "height": 206
        },
        "id": "xHg2Wt__iW72",
        "outputId": "7fcba494-fe99-42b1-c5dd-b85f0bace517"
      },
      "execution_count": 429,
      "outputs": [
        {
          "output_type": "execute_result",
          "data": {
            "text/plain": [
              "       ID                                           KEYWORDS  IS_HCF\n",
              "0  115501  Family Practice|Drainage|Clinical|Dermatology|...     0.0\n",
              "1  115502  General|Clinical|Operative|Medicine|Cardiology...     0.0\n",
              "2  115503  Abortion|Anxiety Disorders|Apnea|False|Trauma|...     0.0\n",
              "3  115504  Health|Male|Neurological Surgery|Otolaryngolog...     0.0\n",
              "4  115505  chronic kidney disease|pain|nephrology|disease...     0.0"
            ],
            "text/html": [
              "\n",
              "  <div id=\"df-36d4bfa3-f7e1-4ff3-802d-9c6abe82309a\">\n",
              "    <div class=\"colab-df-container\">\n",
              "      <div>\n",
              "<style scoped>\n",
              "    .dataframe tbody tr th:only-of-type {\n",
              "        vertical-align: middle;\n",
              "    }\n",
              "\n",
              "    .dataframe tbody tr th {\n",
              "        vertical-align: top;\n",
              "    }\n",
              "\n",
              "    .dataframe thead th {\n",
              "        text-align: right;\n",
              "    }\n",
              "</style>\n",
              "<table border=\"1\" class=\"dataframe\">\n",
              "  <thead>\n",
              "    <tr style=\"text-align: right;\">\n",
              "      <th></th>\n",
              "      <th>ID</th>\n",
              "      <th>KEYWORDS</th>\n",
              "      <th>IS_HCF</th>\n",
              "    </tr>\n",
              "  </thead>\n",
              "  <tbody>\n",
              "    <tr>\n",
              "      <th>0</th>\n",
              "      <td>115501</td>\n",
              "      <td>Family Practice|Drainage|Clinical|Dermatology|...</td>\n",
              "      <td>0.0</td>\n",
              "    </tr>\n",
              "    <tr>\n",
              "      <th>1</th>\n",
              "      <td>115502</td>\n",
              "      <td>General|Clinical|Operative|Medicine|Cardiology...</td>\n",
              "      <td>0.0</td>\n",
              "    </tr>\n",
              "    <tr>\n",
              "      <th>2</th>\n",
              "      <td>115503</td>\n",
              "      <td>Abortion|Anxiety Disorders|Apnea|False|Trauma|...</td>\n",
              "      <td>0.0</td>\n",
              "    </tr>\n",
              "    <tr>\n",
              "      <th>3</th>\n",
              "      <td>115504</td>\n",
              "      <td>Health|Male|Neurological Surgery|Otolaryngolog...</td>\n",
              "      <td>0.0</td>\n",
              "    </tr>\n",
              "    <tr>\n",
              "      <th>4</th>\n",
              "      <td>115505</td>\n",
              "      <td>chronic kidney disease|pain|nephrology|disease...</td>\n",
              "      <td>0.0</td>\n",
              "    </tr>\n",
              "  </tbody>\n",
              "</table>\n",
              "</div>\n",
              "      <button class=\"colab-df-convert\" onclick=\"convertToInteractive('df-36d4bfa3-f7e1-4ff3-802d-9c6abe82309a')\"\n",
              "              title=\"Convert this dataframe to an interactive table.\"\n",
              "              style=\"display:none;\">\n",
              "        \n",
              "  <svg xmlns=\"http://www.w3.org/2000/svg\" height=\"24px\"viewBox=\"0 0 24 24\"\n",
              "       width=\"24px\">\n",
              "    <path d=\"M0 0h24v24H0V0z\" fill=\"none\"/>\n",
              "    <path d=\"M18.56 5.44l.94 2.06.94-2.06 2.06-.94-2.06-.94-.94-2.06-.94 2.06-2.06.94zm-11 1L8.5 8.5l.94-2.06 2.06-.94-2.06-.94L8.5 2.5l-.94 2.06-2.06.94zm10 10l.94 2.06.94-2.06 2.06-.94-2.06-.94-.94-2.06-.94 2.06-2.06.94z\"/><path d=\"M17.41 7.96l-1.37-1.37c-.4-.4-.92-.59-1.43-.59-.52 0-1.04.2-1.43.59L10.3 9.45l-7.72 7.72c-.78.78-.78 2.05 0 2.83L4 21.41c.39.39.9.59 1.41.59.51 0 1.02-.2 1.41-.59l7.78-7.78 2.81-2.81c.8-.78.8-2.07 0-2.86zM5.41 20L4 18.59l7.72-7.72 1.47 1.35L5.41 20z\"/>\n",
              "  </svg>\n",
              "      </button>\n",
              "      \n",
              "  <style>\n",
              "    .colab-df-container {\n",
              "      display:flex;\n",
              "      flex-wrap:wrap;\n",
              "      gap: 12px;\n",
              "    }\n",
              "\n",
              "    .colab-df-convert {\n",
              "      background-color: #E8F0FE;\n",
              "      border: none;\n",
              "      border-radius: 50%;\n",
              "      cursor: pointer;\n",
              "      display: none;\n",
              "      fill: #1967D2;\n",
              "      height: 32px;\n",
              "      padding: 0 0 0 0;\n",
              "      width: 32px;\n",
              "    }\n",
              "\n",
              "    .colab-df-convert:hover {\n",
              "      background-color: #E2EBFA;\n",
              "      box-shadow: 0px 1px 2px rgba(60, 64, 67, 0.3), 0px 1px 3px 1px rgba(60, 64, 67, 0.15);\n",
              "      fill: #174EA6;\n",
              "    }\n",
              "\n",
              "    [theme=dark] .colab-df-convert {\n",
              "      background-color: #3B4455;\n",
              "      fill: #D2E3FC;\n",
              "    }\n",
              "\n",
              "    [theme=dark] .colab-df-convert:hover {\n",
              "      background-color: #434B5C;\n",
              "      box-shadow: 0px 1px 3px 1px rgba(0, 0, 0, 0.15);\n",
              "      filter: drop-shadow(0px 1px 2px rgba(0, 0, 0, 0.3));\n",
              "      fill: #FFFFFF;\n",
              "    }\n",
              "  </style>\n",
              "\n",
              "      <script>\n",
              "        const buttonEl =\n",
              "          document.querySelector('#df-36d4bfa3-f7e1-4ff3-802d-9c6abe82309a button.colab-df-convert');\n",
              "        buttonEl.style.display =\n",
              "          google.colab.kernel.accessAllowed ? 'block' : 'none';\n",
              "\n",
              "        async function convertToInteractive(key) {\n",
              "          const element = document.querySelector('#df-36d4bfa3-f7e1-4ff3-802d-9c6abe82309a');\n",
              "          const dataTable =\n",
              "            await google.colab.kernel.invokeFunction('convertToInteractive',\n",
              "                                                     [key], {});\n",
              "          if (!dataTable) return;\n",
              "\n",
              "          const docLinkHtml = 'Like what you see? Visit the ' +\n",
              "            '<a target=\"_blank\" href=https://colab.research.google.com/notebooks/data_table.ipynb>data table notebook</a>'\n",
              "            + ' to learn more about interactive tables.';\n",
              "          element.innerHTML = '';\n",
              "          dataTable['output_type'] = 'display_data';\n",
              "          await google.colab.output.renderOutput(dataTable, element);\n",
              "          const docLink = document.createElement('div');\n",
              "          docLink.innerHTML = docLinkHtml;\n",
              "          element.appendChild(docLink);\n",
              "        }\n",
              "      </script>\n",
              "    </div>\n",
              "  </div>\n",
              "  "
            ]
          },
          "metadata": {},
          "execution_count": 429
        }
      ]
    },
    {
      "cell_type": "code",
      "source": [
        "zeros_df['TAXONOMY'] = \"\""
      ],
      "metadata": {
        "colab": {
          "base_uri": "https://localhost:8080/"
        },
        "id": "_qAdqQoAib-8",
        "outputId": "3deab73f-dddf-48a1-d01c-2fab99584029"
      },
      "execution_count": 430,
      "outputs": [
        {
          "output_type": "stream",
          "name": "stderr",
          "text": [
            "<ipython-input-430-5ed7418a9b6b>:1: SettingWithCopyWarning: \n",
            "A value is trying to be set on a copy of a slice from a DataFrame.\n",
            "Try using .loc[row_indexer,col_indexer] = value instead\n",
            "\n",
            "See the caveats in the documentation: https://pandas.pydata.org/pandas-docs/stable/user_guide/indexing.html#returning-a-view-versus-a-copy\n",
            "  zeros_df['TAXONOMY'] = \"\"\n"
          ]
        }
      ]
    },
    {
      "cell_type": "code",
      "source": [
        "zeros_df.head()"
      ],
      "metadata": {
        "colab": {
          "base_uri": "https://localhost:8080/",
          "height": 206
        },
        "id": "s2dLsy6kioT5",
        "outputId": "e1bebe01-3b59-4b8c-aff7-b760fd5ef989"
      },
      "execution_count": 431,
      "outputs": [
        {
          "output_type": "execute_result",
          "data": {
            "text/plain": [
              "       ID                                           KEYWORDS  IS_HCF TAXONOMY\n",
              "0  115501  Family Practice|Drainage|Clinical|Dermatology|...     0.0         \n",
              "1  115502  General|Clinical|Operative|Medicine|Cardiology...     0.0         \n",
              "2  115503  Abortion|Anxiety Disorders|Apnea|False|Trauma|...     0.0         \n",
              "3  115504  Health|Male|Neurological Surgery|Otolaryngolog...     0.0         \n",
              "4  115505  chronic kidney disease|pain|nephrology|disease...     0.0         "
            ],
            "text/html": [
              "\n",
              "  <div id=\"df-cb715179-cc29-4494-9fcd-5abfa6f029a2\">\n",
              "    <div class=\"colab-df-container\">\n",
              "      <div>\n",
              "<style scoped>\n",
              "    .dataframe tbody tr th:only-of-type {\n",
              "        vertical-align: middle;\n",
              "    }\n",
              "\n",
              "    .dataframe tbody tr th {\n",
              "        vertical-align: top;\n",
              "    }\n",
              "\n",
              "    .dataframe thead th {\n",
              "        text-align: right;\n",
              "    }\n",
              "</style>\n",
              "<table border=\"1\" class=\"dataframe\">\n",
              "  <thead>\n",
              "    <tr style=\"text-align: right;\">\n",
              "      <th></th>\n",
              "      <th>ID</th>\n",
              "      <th>KEYWORDS</th>\n",
              "      <th>IS_HCF</th>\n",
              "      <th>TAXONOMY</th>\n",
              "    </tr>\n",
              "  </thead>\n",
              "  <tbody>\n",
              "    <tr>\n",
              "      <th>0</th>\n",
              "      <td>115501</td>\n",
              "      <td>Family Practice|Drainage|Clinical|Dermatology|...</td>\n",
              "      <td>0.0</td>\n",
              "      <td></td>\n",
              "    </tr>\n",
              "    <tr>\n",
              "      <th>1</th>\n",
              "      <td>115502</td>\n",
              "      <td>General|Clinical|Operative|Medicine|Cardiology...</td>\n",
              "      <td>0.0</td>\n",
              "      <td></td>\n",
              "    </tr>\n",
              "    <tr>\n",
              "      <th>2</th>\n",
              "      <td>115503</td>\n",
              "      <td>Abortion|Anxiety Disorders|Apnea|False|Trauma|...</td>\n",
              "      <td>0.0</td>\n",
              "      <td></td>\n",
              "    </tr>\n",
              "    <tr>\n",
              "      <th>3</th>\n",
              "      <td>115504</td>\n",
              "      <td>Health|Male|Neurological Surgery|Otolaryngolog...</td>\n",
              "      <td>0.0</td>\n",
              "      <td></td>\n",
              "    </tr>\n",
              "    <tr>\n",
              "      <th>4</th>\n",
              "      <td>115505</td>\n",
              "      <td>chronic kidney disease|pain|nephrology|disease...</td>\n",
              "      <td>0.0</td>\n",
              "      <td></td>\n",
              "    </tr>\n",
              "  </tbody>\n",
              "</table>\n",
              "</div>\n",
              "      <button class=\"colab-df-convert\" onclick=\"convertToInteractive('df-cb715179-cc29-4494-9fcd-5abfa6f029a2')\"\n",
              "              title=\"Convert this dataframe to an interactive table.\"\n",
              "              style=\"display:none;\">\n",
              "        \n",
              "  <svg xmlns=\"http://www.w3.org/2000/svg\" height=\"24px\"viewBox=\"0 0 24 24\"\n",
              "       width=\"24px\">\n",
              "    <path d=\"M0 0h24v24H0V0z\" fill=\"none\"/>\n",
              "    <path d=\"M18.56 5.44l.94 2.06.94-2.06 2.06-.94-2.06-.94-.94-2.06-.94 2.06-2.06.94zm-11 1L8.5 8.5l.94-2.06 2.06-.94-2.06-.94L8.5 2.5l-.94 2.06-2.06.94zm10 10l.94 2.06.94-2.06 2.06-.94-2.06-.94-.94-2.06-.94 2.06-2.06.94z\"/><path d=\"M17.41 7.96l-1.37-1.37c-.4-.4-.92-.59-1.43-.59-.52 0-1.04.2-1.43.59L10.3 9.45l-7.72 7.72c-.78.78-.78 2.05 0 2.83L4 21.41c.39.39.9.59 1.41.59.51 0 1.02-.2 1.41-.59l7.78-7.78 2.81-2.81c.8-.78.8-2.07 0-2.86zM5.41 20L4 18.59l7.72-7.72 1.47 1.35L5.41 20z\"/>\n",
              "  </svg>\n",
              "      </button>\n",
              "      \n",
              "  <style>\n",
              "    .colab-df-container {\n",
              "      display:flex;\n",
              "      flex-wrap:wrap;\n",
              "      gap: 12px;\n",
              "    }\n",
              "\n",
              "    .colab-df-convert {\n",
              "      background-color: #E8F0FE;\n",
              "      border: none;\n",
              "      border-radius: 50%;\n",
              "      cursor: pointer;\n",
              "      display: none;\n",
              "      fill: #1967D2;\n",
              "      height: 32px;\n",
              "      padding: 0 0 0 0;\n",
              "      width: 32px;\n",
              "    }\n",
              "\n",
              "    .colab-df-convert:hover {\n",
              "      background-color: #E2EBFA;\n",
              "      box-shadow: 0px 1px 2px rgba(60, 64, 67, 0.3), 0px 1px 3px 1px rgba(60, 64, 67, 0.15);\n",
              "      fill: #174EA6;\n",
              "    }\n",
              "\n",
              "    [theme=dark] .colab-df-convert {\n",
              "      background-color: #3B4455;\n",
              "      fill: #D2E3FC;\n",
              "    }\n",
              "\n",
              "    [theme=dark] .colab-df-convert:hover {\n",
              "      background-color: #434B5C;\n",
              "      box-shadow: 0px 1px 3px 1px rgba(0, 0, 0, 0.15);\n",
              "      filter: drop-shadow(0px 1px 2px rgba(0, 0, 0, 0.3));\n",
              "      fill: #FFFFFF;\n",
              "    }\n",
              "  </style>\n",
              "\n",
              "      <script>\n",
              "        const buttonEl =\n",
              "          document.querySelector('#df-cb715179-cc29-4494-9fcd-5abfa6f029a2 button.colab-df-convert');\n",
              "        buttonEl.style.display =\n",
              "          google.colab.kernel.accessAllowed ? 'block' : 'none';\n",
              "\n",
              "        async function convertToInteractive(key) {\n",
              "          const element = document.querySelector('#df-cb715179-cc29-4494-9fcd-5abfa6f029a2');\n",
              "          const dataTable =\n",
              "            await google.colab.kernel.invokeFunction('convertToInteractive',\n",
              "                                                     [key], {});\n",
              "          if (!dataTable) return;\n",
              "\n",
              "          const docLinkHtml = 'Like what you see? Visit the ' +\n",
              "            '<a target=\"_blank\" href=https://colab.research.google.com/notebooks/data_table.ipynb>data table notebook</a>'\n",
              "            + ' to learn more about interactive tables.';\n",
              "          element.innerHTML = '';\n",
              "          dataTable['output_type'] = 'display_data';\n",
              "          await google.colab.output.renderOutput(dataTable, element);\n",
              "          const docLink = document.createElement('div');\n",
              "          docLink.innerHTML = docLinkHtml;\n",
              "          element.appendChild(docLink);\n",
              "        }\n",
              "      </script>\n",
              "    </div>\n",
              "  </div>\n",
              "  "
            ]
          },
          "metadata": {},
          "execution_count": 431
        }
      ]
    },
    {
      "cell_type": "code",
      "source": [
        "print(ones_df.shape)\n",
        "print(zeros_df.shape)"
      ],
      "metadata": {
        "colab": {
          "base_uri": "https://localhost:8080/"
        },
        "id": "W50FYpU3i6ri",
        "outputId": "1e07b067-e935-4e7a-ab94-0bdafed68db1"
      },
      "execution_count": 432,
      "outputs": [
        {
          "output_type": "stream",
          "name": "stdout",
          "text": [
            "(2715, 4)\n",
            "(25778, 4)\n"
          ]
        }
      ]
    },
    {
      "cell_type": "code",
      "source": [
        "combined_df = pd.concat([ones_df, zeros_df], ignore_index=True)"
      ],
      "metadata": {
        "id": "375BsZQUjbqn"
      },
      "execution_count": 433,
      "outputs": []
    },
    {
      "cell_type": "code",
      "source": [
        "combined_df.shape"
      ],
      "metadata": {
        "colab": {
          "base_uri": "https://localhost:8080/"
        },
        "id": "X_38s0i2jhFX",
        "outputId": "79eb25c0-2db2-4ab7-f479-199beded34a8"
      },
      "execution_count": 434,
      "outputs": [
        {
          "output_type": "execute_result",
          "data": {
            "text/plain": [
              "(28493, 4)"
            ]
          },
          "metadata": {},
          "execution_count": 434
        }
      ]
    },
    {
      "cell_type": "code",
      "source": [
        "combined_df.head()"
      ],
      "metadata": {
        "colab": {
          "base_uri": "https://localhost:8080/",
          "height": 206
        },
        "id": "Uoxs3mrfj7tY",
        "outputId": "21c72a01-8dbd-449e-899c-4dd00a9502ff"
      },
      "execution_count": 435,
      "outputs": [
        {
          "output_type": "execute_result",
          "data": {
            "text/plain": [
              "       ID                                           KEYWORDS    TAXONOMY  \\\n",
              "0  115532  Anemia|Delivery|Oncology|Medicine|Diabetes Mel...  204C00000X   \n",
              "1  115550  Surgical|Pathology|Heart Failure|Physicians|Sp...  2080P0207X   \n",
              "2  115563  Surgical|Pathology|Heart Failure|Physicians|Sp...  2080P0207X   \n",
              "3  115566  Clinical|Pediatrics|Rheumatology|Urology|Child...  208000000X   \n",
              "4  115576  Pharmacology|Delivery|Medicine|Hospitals|Aged|...  2080P0202X   \n",
              "\n",
              "   IS_HCF  \n",
              "0     1.0  \n",
              "1     1.0  \n",
              "2     1.0  \n",
              "3     1.0  \n",
              "4     1.0  "
            ],
            "text/html": [
              "\n",
              "  <div id=\"df-8ded80e9-917d-4b8f-9880-23c61724b4d5\">\n",
              "    <div class=\"colab-df-container\">\n",
              "      <div>\n",
              "<style scoped>\n",
              "    .dataframe tbody tr th:only-of-type {\n",
              "        vertical-align: middle;\n",
              "    }\n",
              "\n",
              "    .dataframe tbody tr th {\n",
              "        vertical-align: top;\n",
              "    }\n",
              "\n",
              "    .dataframe thead th {\n",
              "        text-align: right;\n",
              "    }\n",
              "</style>\n",
              "<table border=\"1\" class=\"dataframe\">\n",
              "  <thead>\n",
              "    <tr style=\"text-align: right;\">\n",
              "      <th></th>\n",
              "      <th>ID</th>\n",
              "      <th>KEYWORDS</th>\n",
              "      <th>TAXONOMY</th>\n",
              "      <th>IS_HCF</th>\n",
              "    </tr>\n",
              "  </thead>\n",
              "  <tbody>\n",
              "    <tr>\n",
              "      <th>0</th>\n",
              "      <td>115532</td>\n",
              "      <td>Anemia|Delivery|Oncology|Medicine|Diabetes Mel...</td>\n",
              "      <td>204C00000X</td>\n",
              "      <td>1.0</td>\n",
              "    </tr>\n",
              "    <tr>\n",
              "      <th>1</th>\n",
              "      <td>115550</td>\n",
              "      <td>Surgical|Pathology|Heart Failure|Physicians|Sp...</td>\n",
              "      <td>2080P0207X</td>\n",
              "      <td>1.0</td>\n",
              "    </tr>\n",
              "    <tr>\n",
              "      <th>2</th>\n",
              "      <td>115563</td>\n",
              "      <td>Surgical|Pathology|Heart Failure|Physicians|Sp...</td>\n",
              "      <td>2080P0207X</td>\n",
              "      <td>1.0</td>\n",
              "    </tr>\n",
              "    <tr>\n",
              "      <th>3</th>\n",
              "      <td>115566</td>\n",
              "      <td>Clinical|Pediatrics|Rheumatology|Urology|Child...</td>\n",
              "      <td>208000000X</td>\n",
              "      <td>1.0</td>\n",
              "    </tr>\n",
              "    <tr>\n",
              "      <th>4</th>\n",
              "      <td>115576</td>\n",
              "      <td>Pharmacology|Delivery|Medicine|Hospitals|Aged|...</td>\n",
              "      <td>2080P0202X</td>\n",
              "      <td>1.0</td>\n",
              "    </tr>\n",
              "  </tbody>\n",
              "</table>\n",
              "</div>\n",
              "      <button class=\"colab-df-convert\" onclick=\"convertToInteractive('df-8ded80e9-917d-4b8f-9880-23c61724b4d5')\"\n",
              "              title=\"Convert this dataframe to an interactive table.\"\n",
              "              style=\"display:none;\">\n",
              "        \n",
              "  <svg xmlns=\"http://www.w3.org/2000/svg\" height=\"24px\"viewBox=\"0 0 24 24\"\n",
              "       width=\"24px\">\n",
              "    <path d=\"M0 0h24v24H0V0z\" fill=\"none\"/>\n",
              "    <path d=\"M18.56 5.44l.94 2.06.94-2.06 2.06-.94-2.06-.94-.94-2.06-.94 2.06-2.06.94zm-11 1L8.5 8.5l.94-2.06 2.06-.94-2.06-.94L8.5 2.5l-.94 2.06-2.06.94zm10 10l.94 2.06.94-2.06 2.06-.94-2.06-.94-.94-2.06-.94 2.06-2.06.94z\"/><path d=\"M17.41 7.96l-1.37-1.37c-.4-.4-.92-.59-1.43-.59-.52 0-1.04.2-1.43.59L10.3 9.45l-7.72 7.72c-.78.78-.78 2.05 0 2.83L4 21.41c.39.39.9.59 1.41.59.51 0 1.02-.2 1.41-.59l7.78-7.78 2.81-2.81c.8-.78.8-2.07 0-2.86zM5.41 20L4 18.59l7.72-7.72 1.47 1.35L5.41 20z\"/>\n",
              "  </svg>\n",
              "      </button>\n",
              "      \n",
              "  <style>\n",
              "    .colab-df-container {\n",
              "      display:flex;\n",
              "      flex-wrap:wrap;\n",
              "      gap: 12px;\n",
              "    }\n",
              "\n",
              "    .colab-df-convert {\n",
              "      background-color: #E8F0FE;\n",
              "      border: none;\n",
              "      border-radius: 50%;\n",
              "      cursor: pointer;\n",
              "      display: none;\n",
              "      fill: #1967D2;\n",
              "      height: 32px;\n",
              "      padding: 0 0 0 0;\n",
              "      width: 32px;\n",
              "    }\n",
              "\n",
              "    .colab-df-convert:hover {\n",
              "      background-color: #E2EBFA;\n",
              "      box-shadow: 0px 1px 2px rgba(60, 64, 67, 0.3), 0px 1px 3px 1px rgba(60, 64, 67, 0.15);\n",
              "      fill: #174EA6;\n",
              "    }\n",
              "\n",
              "    [theme=dark] .colab-df-convert {\n",
              "      background-color: #3B4455;\n",
              "      fill: #D2E3FC;\n",
              "    }\n",
              "\n",
              "    [theme=dark] .colab-df-convert:hover {\n",
              "      background-color: #434B5C;\n",
              "      box-shadow: 0px 1px 3px 1px rgba(0, 0, 0, 0.15);\n",
              "      filter: drop-shadow(0px 1px 2px rgba(0, 0, 0, 0.3));\n",
              "      fill: #FFFFFF;\n",
              "    }\n",
              "  </style>\n",
              "\n",
              "      <script>\n",
              "        const buttonEl =\n",
              "          document.querySelector('#df-8ded80e9-917d-4b8f-9880-23c61724b4d5 button.colab-df-convert');\n",
              "        buttonEl.style.display =\n",
              "          google.colab.kernel.accessAllowed ? 'block' : 'none';\n",
              "\n",
              "        async function convertToInteractive(key) {\n",
              "          const element = document.querySelector('#df-8ded80e9-917d-4b8f-9880-23c61724b4d5');\n",
              "          const dataTable =\n",
              "            await google.colab.kernel.invokeFunction('convertToInteractive',\n",
              "                                                     [key], {});\n",
              "          if (!dataTable) return;\n",
              "\n",
              "          const docLinkHtml = 'Like what you see? Visit the ' +\n",
              "            '<a target=\"_blank\" href=https://colab.research.google.com/notebooks/data_table.ipynb>data table notebook</a>'\n",
              "            + ' to learn more about interactive tables.';\n",
              "          element.innerHTML = '';\n",
              "          dataTable['output_type'] = 'display_data';\n",
              "          await google.colab.output.renderOutput(dataTable, element);\n",
              "          const docLink = document.createElement('div');\n",
              "          docLink.innerHTML = docLinkHtml;\n",
              "          element.appendChild(docLink);\n",
              "        }\n",
              "      </script>\n",
              "    </div>\n",
              "  </div>\n",
              "  "
            ]
          },
          "metadata": {},
          "execution_count": 435
        }
      ]
    },
    {
      "cell_type": "code",
      "source": [
        "sorted_df = combined_df.sort_values('ID')"
      ],
      "metadata": {
        "id": "F1ZjvHiajjwt"
      },
      "execution_count": 436,
      "outputs": []
    },
    {
      "cell_type": "code",
      "source": [
        "sorted_df.head()"
      ],
      "metadata": {
        "colab": {
          "base_uri": "https://localhost:8080/",
          "height": 206
        },
        "id": "_cXIWgTokEtQ",
        "outputId": "89d82a53-b681-4ba8-c3e7-4e410d24a381"
      },
      "execution_count": 437,
      "outputs": [
        {
          "output_type": "execute_result",
          "data": {
            "text/plain": [
              "          ID                                           KEYWORDS TAXONOMY  \\\n",
              "2715  115501  Family Practice|Drainage|Clinical|Dermatology|...            \n",
              "2716  115502  General|Clinical|Operative|Medicine|Cardiology...            \n",
              "2717  115503  Abortion|Anxiety Disorders|Apnea|False|Trauma|...            \n",
              "2718  115504  Health|Male|Neurological Surgery|Otolaryngolog...            \n",
              "2719  115505  chronic kidney disease|pain|nephrology|disease...            \n",
              "\n",
              "      IS_HCF  \n",
              "2715     0.0  \n",
              "2716     0.0  \n",
              "2717     0.0  \n",
              "2718     0.0  \n",
              "2719     0.0  "
            ],
            "text/html": [
              "\n",
              "  <div id=\"df-60efddcf-77df-49a4-9b6f-d4be5e1c82d0\">\n",
              "    <div class=\"colab-df-container\">\n",
              "      <div>\n",
              "<style scoped>\n",
              "    .dataframe tbody tr th:only-of-type {\n",
              "        vertical-align: middle;\n",
              "    }\n",
              "\n",
              "    .dataframe tbody tr th {\n",
              "        vertical-align: top;\n",
              "    }\n",
              "\n",
              "    .dataframe thead th {\n",
              "        text-align: right;\n",
              "    }\n",
              "</style>\n",
              "<table border=\"1\" class=\"dataframe\">\n",
              "  <thead>\n",
              "    <tr style=\"text-align: right;\">\n",
              "      <th></th>\n",
              "      <th>ID</th>\n",
              "      <th>KEYWORDS</th>\n",
              "      <th>TAXONOMY</th>\n",
              "      <th>IS_HCF</th>\n",
              "    </tr>\n",
              "  </thead>\n",
              "  <tbody>\n",
              "    <tr>\n",
              "      <th>2715</th>\n",
              "      <td>115501</td>\n",
              "      <td>Family Practice|Drainage|Clinical|Dermatology|...</td>\n",
              "      <td></td>\n",
              "      <td>0.0</td>\n",
              "    </tr>\n",
              "    <tr>\n",
              "      <th>2716</th>\n",
              "      <td>115502</td>\n",
              "      <td>General|Clinical|Operative|Medicine|Cardiology...</td>\n",
              "      <td></td>\n",
              "      <td>0.0</td>\n",
              "    </tr>\n",
              "    <tr>\n",
              "      <th>2717</th>\n",
              "      <td>115503</td>\n",
              "      <td>Abortion|Anxiety Disorders|Apnea|False|Trauma|...</td>\n",
              "      <td></td>\n",
              "      <td>0.0</td>\n",
              "    </tr>\n",
              "    <tr>\n",
              "      <th>2718</th>\n",
              "      <td>115504</td>\n",
              "      <td>Health|Male|Neurological Surgery|Otolaryngolog...</td>\n",
              "      <td></td>\n",
              "      <td>0.0</td>\n",
              "    </tr>\n",
              "    <tr>\n",
              "      <th>2719</th>\n",
              "      <td>115505</td>\n",
              "      <td>chronic kidney disease|pain|nephrology|disease...</td>\n",
              "      <td></td>\n",
              "      <td>0.0</td>\n",
              "    </tr>\n",
              "  </tbody>\n",
              "</table>\n",
              "</div>\n",
              "      <button class=\"colab-df-convert\" onclick=\"convertToInteractive('df-60efddcf-77df-49a4-9b6f-d4be5e1c82d0')\"\n",
              "              title=\"Convert this dataframe to an interactive table.\"\n",
              "              style=\"display:none;\">\n",
              "        \n",
              "  <svg xmlns=\"http://www.w3.org/2000/svg\" height=\"24px\"viewBox=\"0 0 24 24\"\n",
              "       width=\"24px\">\n",
              "    <path d=\"M0 0h24v24H0V0z\" fill=\"none\"/>\n",
              "    <path d=\"M18.56 5.44l.94 2.06.94-2.06 2.06-.94-2.06-.94-.94-2.06-.94 2.06-2.06.94zm-11 1L8.5 8.5l.94-2.06 2.06-.94-2.06-.94L8.5 2.5l-.94 2.06-2.06.94zm10 10l.94 2.06.94-2.06 2.06-.94-2.06-.94-.94-2.06-.94 2.06-2.06.94z\"/><path d=\"M17.41 7.96l-1.37-1.37c-.4-.4-.92-.59-1.43-.59-.52 0-1.04.2-1.43.59L10.3 9.45l-7.72 7.72c-.78.78-.78 2.05 0 2.83L4 21.41c.39.39.9.59 1.41.59.51 0 1.02-.2 1.41-.59l7.78-7.78 2.81-2.81c.8-.78.8-2.07 0-2.86zM5.41 20L4 18.59l7.72-7.72 1.47 1.35L5.41 20z\"/>\n",
              "  </svg>\n",
              "      </button>\n",
              "      \n",
              "  <style>\n",
              "    .colab-df-container {\n",
              "      display:flex;\n",
              "      flex-wrap:wrap;\n",
              "      gap: 12px;\n",
              "    }\n",
              "\n",
              "    .colab-df-convert {\n",
              "      background-color: #E8F0FE;\n",
              "      border: none;\n",
              "      border-radius: 50%;\n",
              "      cursor: pointer;\n",
              "      display: none;\n",
              "      fill: #1967D2;\n",
              "      height: 32px;\n",
              "      padding: 0 0 0 0;\n",
              "      width: 32px;\n",
              "    }\n",
              "\n",
              "    .colab-df-convert:hover {\n",
              "      background-color: #E2EBFA;\n",
              "      box-shadow: 0px 1px 2px rgba(60, 64, 67, 0.3), 0px 1px 3px 1px rgba(60, 64, 67, 0.15);\n",
              "      fill: #174EA6;\n",
              "    }\n",
              "\n",
              "    [theme=dark] .colab-df-convert {\n",
              "      background-color: #3B4455;\n",
              "      fill: #D2E3FC;\n",
              "    }\n",
              "\n",
              "    [theme=dark] .colab-df-convert:hover {\n",
              "      background-color: #434B5C;\n",
              "      box-shadow: 0px 1px 3px 1px rgba(0, 0, 0, 0.15);\n",
              "      filter: drop-shadow(0px 1px 2px rgba(0, 0, 0, 0.3));\n",
              "      fill: #FFFFFF;\n",
              "    }\n",
              "  </style>\n",
              "\n",
              "      <script>\n",
              "        const buttonEl =\n",
              "          document.querySelector('#df-60efddcf-77df-49a4-9b6f-d4be5e1c82d0 button.colab-df-convert');\n",
              "        buttonEl.style.display =\n",
              "          google.colab.kernel.accessAllowed ? 'block' : 'none';\n",
              "\n",
              "        async function convertToInteractive(key) {\n",
              "          const element = document.querySelector('#df-60efddcf-77df-49a4-9b6f-d4be5e1c82d0');\n",
              "          const dataTable =\n",
              "            await google.colab.kernel.invokeFunction('convertToInteractive',\n",
              "                                                     [key], {});\n",
              "          if (!dataTable) return;\n",
              "\n",
              "          const docLinkHtml = 'Like what you see? Visit the ' +\n",
              "            '<a target=\"_blank\" href=https://colab.research.google.com/notebooks/data_table.ipynb>data table notebook</a>'\n",
              "            + ' to learn more about interactive tables.';\n",
              "          element.innerHTML = '';\n",
              "          dataTable['output_type'] = 'display_data';\n",
              "          await google.colab.output.renderOutput(dataTable, element);\n",
              "          const docLink = document.createElement('div');\n",
              "          docLink.innerHTML = docLinkHtml;\n",
              "          element.appendChild(docLink);\n",
              "        }\n",
              "      </script>\n",
              "    </div>\n",
              "  </div>\n",
              "  "
            ]
          },
          "metadata": {},
          "execution_count": 437
        }
      ]
    },
    {
      "cell_type": "code",
      "source": [
        "sorted_df.tail()"
      ],
      "metadata": {
        "colab": {
          "base_uri": "https://localhost:8080/",
          "height": 206
        },
        "id": "C9wTcv2RkJUL",
        "outputId": "71532ada-5bad-45fd-a439-6d039bb8b523"
      },
      "execution_count": 438,
      "outputs": [
        {
          "output_type": "execute_result",
          "data": {
            "text/plain": [
              "           ID                                           KEYWORDS TAXONOMY  \\\n",
              "28488  143989  Transplantation|Psychiatry|Heart Failure|Angio...            \n",
              "28489  143990  small|hospitals|nephrology|emergency medicine|...            \n",
              "28490  143991  small|hospitals|nephrology|emergency medicine|...            \n",
              "28491  143992  the|disease|pain|radiology|lung abscess|dyspar...            \n",
              "28492  143993  Medicine|General|Clinical|False|Urology|Total|...            \n",
              "\n",
              "       IS_HCF  \n",
              "28488     0.0  \n",
              "28489     0.0  \n",
              "28490     0.0  \n",
              "28491     0.0  \n",
              "28492     0.0  "
            ],
            "text/html": [
              "\n",
              "  <div id=\"df-b54fdb8d-e1ad-4487-813b-5c0716b837a6\">\n",
              "    <div class=\"colab-df-container\">\n",
              "      <div>\n",
              "<style scoped>\n",
              "    .dataframe tbody tr th:only-of-type {\n",
              "        vertical-align: middle;\n",
              "    }\n",
              "\n",
              "    .dataframe tbody tr th {\n",
              "        vertical-align: top;\n",
              "    }\n",
              "\n",
              "    .dataframe thead th {\n",
              "        text-align: right;\n",
              "    }\n",
              "</style>\n",
              "<table border=\"1\" class=\"dataframe\">\n",
              "  <thead>\n",
              "    <tr style=\"text-align: right;\">\n",
              "      <th></th>\n",
              "      <th>ID</th>\n",
              "      <th>KEYWORDS</th>\n",
              "      <th>TAXONOMY</th>\n",
              "      <th>IS_HCF</th>\n",
              "    </tr>\n",
              "  </thead>\n",
              "  <tbody>\n",
              "    <tr>\n",
              "      <th>28488</th>\n",
              "      <td>143989</td>\n",
              "      <td>Transplantation|Psychiatry|Heart Failure|Angio...</td>\n",
              "      <td></td>\n",
              "      <td>0.0</td>\n",
              "    </tr>\n",
              "    <tr>\n",
              "      <th>28489</th>\n",
              "      <td>143990</td>\n",
              "      <td>small|hospitals|nephrology|emergency medicine|...</td>\n",
              "      <td></td>\n",
              "      <td>0.0</td>\n",
              "    </tr>\n",
              "    <tr>\n",
              "      <th>28490</th>\n",
              "      <td>143991</td>\n",
              "      <td>small|hospitals|nephrology|emergency medicine|...</td>\n",
              "      <td></td>\n",
              "      <td>0.0</td>\n",
              "    </tr>\n",
              "    <tr>\n",
              "      <th>28491</th>\n",
              "      <td>143992</td>\n",
              "      <td>the|disease|pain|radiology|lung abscess|dyspar...</td>\n",
              "      <td></td>\n",
              "      <td>0.0</td>\n",
              "    </tr>\n",
              "    <tr>\n",
              "      <th>28492</th>\n",
              "      <td>143993</td>\n",
              "      <td>Medicine|General|Clinical|False|Urology|Total|...</td>\n",
              "      <td></td>\n",
              "      <td>0.0</td>\n",
              "    </tr>\n",
              "  </tbody>\n",
              "</table>\n",
              "</div>\n",
              "      <button class=\"colab-df-convert\" onclick=\"convertToInteractive('df-b54fdb8d-e1ad-4487-813b-5c0716b837a6')\"\n",
              "              title=\"Convert this dataframe to an interactive table.\"\n",
              "              style=\"display:none;\">\n",
              "        \n",
              "  <svg xmlns=\"http://www.w3.org/2000/svg\" height=\"24px\"viewBox=\"0 0 24 24\"\n",
              "       width=\"24px\">\n",
              "    <path d=\"M0 0h24v24H0V0z\" fill=\"none\"/>\n",
              "    <path d=\"M18.56 5.44l.94 2.06.94-2.06 2.06-.94-2.06-.94-.94-2.06-.94 2.06-2.06.94zm-11 1L8.5 8.5l.94-2.06 2.06-.94-2.06-.94L8.5 2.5l-.94 2.06-2.06.94zm10 10l.94 2.06.94-2.06 2.06-.94-2.06-.94-.94-2.06-.94 2.06-2.06.94z\"/><path d=\"M17.41 7.96l-1.37-1.37c-.4-.4-.92-.59-1.43-.59-.52 0-1.04.2-1.43.59L10.3 9.45l-7.72 7.72c-.78.78-.78 2.05 0 2.83L4 21.41c.39.39.9.59 1.41.59.51 0 1.02-.2 1.41-.59l7.78-7.78 2.81-2.81c.8-.78.8-2.07 0-2.86zM5.41 20L4 18.59l7.72-7.72 1.47 1.35L5.41 20z\"/>\n",
              "  </svg>\n",
              "      </button>\n",
              "      \n",
              "  <style>\n",
              "    .colab-df-container {\n",
              "      display:flex;\n",
              "      flex-wrap:wrap;\n",
              "      gap: 12px;\n",
              "    }\n",
              "\n",
              "    .colab-df-convert {\n",
              "      background-color: #E8F0FE;\n",
              "      border: none;\n",
              "      border-radius: 50%;\n",
              "      cursor: pointer;\n",
              "      display: none;\n",
              "      fill: #1967D2;\n",
              "      height: 32px;\n",
              "      padding: 0 0 0 0;\n",
              "      width: 32px;\n",
              "    }\n",
              "\n",
              "    .colab-df-convert:hover {\n",
              "      background-color: #E2EBFA;\n",
              "      box-shadow: 0px 1px 2px rgba(60, 64, 67, 0.3), 0px 1px 3px 1px rgba(60, 64, 67, 0.15);\n",
              "      fill: #174EA6;\n",
              "    }\n",
              "\n",
              "    [theme=dark] .colab-df-convert {\n",
              "      background-color: #3B4455;\n",
              "      fill: #D2E3FC;\n",
              "    }\n",
              "\n",
              "    [theme=dark] .colab-df-convert:hover {\n",
              "      background-color: #434B5C;\n",
              "      box-shadow: 0px 1px 3px 1px rgba(0, 0, 0, 0.15);\n",
              "      filter: drop-shadow(0px 1px 2px rgba(0, 0, 0, 0.3));\n",
              "      fill: #FFFFFF;\n",
              "    }\n",
              "  </style>\n",
              "\n",
              "      <script>\n",
              "        const buttonEl =\n",
              "          document.querySelector('#df-b54fdb8d-e1ad-4487-813b-5c0716b837a6 button.colab-df-convert');\n",
              "        buttonEl.style.display =\n",
              "          google.colab.kernel.accessAllowed ? 'block' : 'none';\n",
              "\n",
              "        async function convertToInteractive(key) {\n",
              "          const element = document.querySelector('#df-b54fdb8d-e1ad-4487-813b-5c0716b837a6');\n",
              "          const dataTable =\n",
              "            await google.colab.kernel.invokeFunction('convertToInteractive',\n",
              "                                                     [key], {});\n",
              "          if (!dataTable) return;\n",
              "\n",
              "          const docLinkHtml = 'Like what you see? Visit the ' +\n",
              "            '<a target=\"_blank\" href=https://colab.research.google.com/notebooks/data_table.ipynb>data table notebook</a>'\n",
              "            + ' to learn more about interactive tables.';\n",
              "          element.innerHTML = '';\n",
              "          dataTable['output_type'] = 'display_data';\n",
              "          await google.colab.output.renderOutput(dataTable, element);\n",
              "          const docLink = document.createElement('div');\n",
              "          docLink.innerHTML = docLinkHtml;\n",
              "          element.appendChild(docLink);\n",
              "        }\n",
              "      </script>\n",
              "    </div>\n",
              "  </div>\n",
              "  "
            ]
          },
          "metadata": {},
          "execution_count": 438
        }
      ]
    },
    {
      "cell_type": "code",
      "source": [
        "sorted_df.to_csv(\"solution_doceree.csv\",index = False)"
      ],
      "metadata": {
        "id": "v8dE7mpbkOTP"
      },
      "execution_count": 439,
      "outputs": []
    },
    {
      "cell_type": "code",
      "source": [],
      "metadata": {
        "id": "sLvPTH4QkcbZ"
      },
      "execution_count": 439,
      "outputs": []
    }
  ]
}